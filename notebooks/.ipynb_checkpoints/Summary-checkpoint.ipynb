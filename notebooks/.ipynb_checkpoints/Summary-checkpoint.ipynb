{
 "cells": [
  {
   "cell_type": "markdown",
   "metadata": {},
   "source": [
    "# COMP90073 - Assignment 2\n",
    "\n",
    "## Machine learning based cyberattack detection\n",
    "\n",
    "## Daniel Gil <Student Id: 905923>"
   ]
  },
  {
   "cell_type": "markdown",
   "metadata": {},
   "source": [
    "First, import the necessary packages to load and process data"
   ]
  },
  {
   "cell_type": "code",
   "execution_count": 4,
   "metadata": {},
   "outputs": [],
   "source": [
    "import pandas as pd\n",
    "import sys\n",
    "sys.path.append(\"../src\")\n",
    "import cconfig\n",
    "import utils\n"
   ]
  },
  {
   "cell_type": "markdown",
   "metadata": {},
   "source": [
    "The iForest model seems to be a good choice to analyze final results, the isolation technique was analyzed as a good approach for real-time applications and results shows consistency across both type of flows. To generate the final result the bi-directional flow was chosen in order to identify clearly the attackers and victims."
   ]
  },
  {
   "cell_type": "markdown",
   "metadata": {},
   "source": [
    "First, we can load the generated output of anomalies for this particular algorithm and type of low:"
   ]
  },
  {
   "cell_type": "code",
   "execution_count": 17,
   "metadata": {},
   "outputs": [],
   "source": [
    "df=utils.load(\"../outputs/BiFlow/BIFLOW_df_anomalies_iforest\")\n",
    "df=df.sort_values(by=['flow_start'])"
   ]
  },
  {
   "cell_type": "markdown",
   "metadata": {},
   "source": [
    "Since we are interested in attacker and victim, we can create a new column in data to consolidate easier and get the most frequent host participating in anomalies:"
   ]
  },
  {
   "cell_type": "code",
   "execution_count": 18,
   "metadata": {},
   "outputs": [
    {
     "data": {
      "text/plain": [
       "162.242.240.67->192.168.10.50     10208\n",
       "169.54.33.166->192.168.10.50       8556\n",
       "146.20.128.223->192.168.10.50      8427\n",
       "146.20.128.189->192.168.10.50      8350\n",
       "151.101.192.194->192.168.10.50     8304\n",
       "13.59.43.55->192.168.10.50         8253\n",
       "104.16.26.35->192.168.10.50        7911\n",
       "13.58.146.190->192.168.10.50       5136\n",
       "104.117.102.33->192.168.10.50      4584\n",
       "107.22.224.100->192.168.10.50      4020\n",
       "104.97.137.26->192.168.10.50       3962\n",
       "192.168.10.16->199.244.48.55        384\n",
       "199.244.48.55->192.168.10.16        383\n",
       "162.213.33.50->192.168.10.51        354\n",
       "192.168.10.17->199.167.65.25        209\n",
       "Name: conversation, dtype: int64"
      ]
     },
     "execution_count": 18,
     "metadata": {},
     "output_type": "execute_result"
    }
   ],
   "source": [
    "df['conversation']=df[['src_ip', 'dst_ip']].apply(lambda x: '->'.join(x), axis=1)\n",
    "df.conversation.value_counts()[:15]"
   ]
  },
  {
   "cell_type": "markdown",
   "metadata": {},
   "source": [
    "The top eleven account for the majority of the frequencies, it can be seen the host 19.216.10.50 as the victim and several hosts as attacker. Now let's filter out the top 11 and consolidate the data for final result using the final columns required as output"
   ]
  },
  {
   "cell_type": "code",
   "execution_count": 19,
   "metadata": {},
   "outputs": [
    {
     "data": {
      "text/html": [
       "<div>\n",
       "<style scoped>\n",
       "    .dataframe tbody tr th:only-of-type {\n",
       "        vertical-align: middle;\n",
       "    }\n",
       "\n",
       "    .dataframe tbody tr th {\n",
       "        vertical-align: top;\n",
       "    }\n",
       "\n",
       "    .dataframe thead th {\n",
       "        text-align: right;\n",
       "    }\n",
       "</style>\n",
       "<table border=\"1\" class=\"dataframe\">\n",
       "  <thead>\n",
       "    <tr style=\"text-align: right;\">\n",
       "      <th></th>\n",
       "      <th>flow_start</th>\n",
       "      <th>flow_finish</th>\n",
       "      <th>src_ip</th>\n",
       "      <th>dst_ip</th>\n",
       "      <th>src_port</th>\n",
       "      <th>dst_port</th>\n",
       "      <th>protocol</th>\n",
       "      <th>tcp_stream</th>\n",
       "      <th>conversation</th>\n",
       "    </tr>\n",
       "  </thead>\n",
       "  <tbody>\n",
       "    <tr>\n",
       "      <th>0</th>\n",
       "      <td>2017-07-07 17:00:00.014</td>\n",
       "      <td>2017-07-07 17:01:15.253000</td>\n",
       "      <td>192.168.10.17</td>\n",
       "      <td>172.217.10.34</td>\n",
       "      <td>43060</td>\n",
       "      <td>443</td>\n",
       "      <td>TCP</td>\n",
       "      <td>0</td>\n",
       "      <td>192.168.10.17-&gt;172.217.10.34</td>\n",
       "    </tr>\n",
       "    <tr>\n",
       "      <th>2</th>\n",
       "      <td>2017-07-07 17:00:00.026</td>\n",
       "      <td>2017-07-07 17:01:45.255000</td>\n",
       "      <td>172.217.10.46</td>\n",
       "      <td>192.168.10.17</td>\n",
       "      <td>80</td>\n",
       "      <td>55848</td>\n",
       "      <td>TCP</td>\n",
       "      <td>1</td>\n",
       "      <td>172.217.10.46-&gt;192.168.10.17</td>\n",
       "    </tr>\n",
       "    <tr>\n",
       "      <th>5</th>\n",
       "      <td>2017-07-07 17:00:00.085</td>\n",
       "      <td>2017-07-07 17:00:35.453000</td>\n",
       "      <td>192.168.10.19</td>\n",
       "      <td>151.101.118.2</td>\n",
       "      <td>42918</td>\n",
       "      <td>443</td>\n",
       "      <td>TCP</td>\n",
       "      <td>3</td>\n",
       "      <td>192.168.10.19-&gt;151.101.118.2</td>\n",
       "    </tr>\n",
       "    <tr>\n",
       "      <th>8</th>\n",
       "      <td>2017-07-07 17:00:00.148</td>\n",
       "      <td>2017-07-07 17:05:41.280000</td>\n",
       "      <td>192.168.10.16</td>\n",
       "      <td>172.217.10.130</td>\n",
       "      <td>38518</td>\n",
       "      <td>443</td>\n",
       "      <td>TLSv1.2</td>\n",
       "      <td>4</td>\n",
       "      <td>192.168.10.16-&gt;172.217.10.130</td>\n",
       "    </tr>\n",
       "    <tr>\n",
       "      <th>7</th>\n",
       "      <td>2017-07-07 17:00:00.202</td>\n",
       "      <td>2017-07-07 17:05:45.649000</td>\n",
       "      <td>192.168.10.16</td>\n",
       "      <td>172.217.10.130</td>\n",
       "      <td>38518</td>\n",
       "      <td>443</td>\n",
       "      <td>TCP</td>\n",
       "      <td>4</td>\n",
       "      <td>192.168.10.16-&gt;172.217.10.130</td>\n",
       "    </tr>\n",
       "  </tbody>\n",
       "</table>\n",
       "</div>"
      ],
      "text/plain": [
       "               flow_start                 flow_finish         src_ip  \\\n",
       "0 2017-07-07 17:00:00.014  2017-07-07 17:01:15.253000  192.168.10.17   \n",
       "2 2017-07-07 17:00:00.026  2017-07-07 17:01:45.255000  172.217.10.46   \n",
       "5 2017-07-07 17:00:00.085  2017-07-07 17:00:35.453000  192.168.10.19   \n",
       "8 2017-07-07 17:00:00.148  2017-07-07 17:05:41.280000  192.168.10.16   \n",
       "7 2017-07-07 17:00:00.202  2017-07-07 17:05:45.649000  192.168.10.16   \n",
       "\n",
       "           dst_ip  src_port  dst_port protocol  tcp_stream  \\\n",
       "0   172.217.10.34     43060       443      TCP           0   \n",
       "2   192.168.10.17        80     55848      TCP           1   \n",
       "5   151.101.118.2     42918       443      TCP           3   \n",
       "8  172.217.10.130     38518       443  TLSv1.2           4   \n",
       "7  172.217.10.130     38518       443      TCP           4   \n",
       "\n",
       "                    conversation  \n",
       "0   192.168.10.17->172.217.10.34  \n",
       "2   172.217.10.46->192.168.10.17  \n",
       "5   192.168.10.19->151.101.118.2  \n",
       "8  192.168.10.16->172.217.10.130  \n",
       "7  192.168.10.16->172.217.10.130  "
      ]
     },
     "execution_count": 19,
     "metadata": {},
     "output_type": "execute_result"
    }
   ],
   "source": [
    "selected_columns=['flow_start','flow_finish','src_ip','dst_ip','src_port','dst_port','protocol','tcp_stream','conversation']\n",
    "df=df[selected_columns]\n",
    "df.head()"
   ]
  },
  {
   "cell_type": "code",
   "execution_count": 22,
   "metadata": {},
   "outputs": [],
   "source": [
    "# create a ddos file with all malicious conversations and the required fields\n",
    "malicious_conversations=df.conversation.value_counts()[:11]\n",
    "ddos_conversations=list()\n",
    "ddos_summary=list()\n",
    "for index,row in df.iterrows():\n",
    "    if row.conversation in malicious_conversations.index:\n",
    "        ddos_conversations.append(row)\n",
    "df_ddos = pd.DataFrame(ddos_conversations)\n"
   ]
  },
  {
   "cell_type": "code",
   "execution_count": 35,
   "metadata": {},
   "outputs": [
    {
     "data": {
      "text/html": [
       "<div>\n",
       "<style scoped>\n",
       "    .dataframe tbody tr th:only-of-type {\n",
       "        vertical-align: middle;\n",
       "    }\n",
       "\n",
       "    .dataframe tbody tr th {\n",
       "        vertical-align: top;\n",
       "    }\n",
       "\n",
       "    .dataframe thead th {\n",
       "        text-align: right;\n",
       "    }\n",
       "</style>\n",
       "<table border=\"1\" class=\"dataframe\">\n",
       "  <thead>\n",
       "    <tr style=\"text-align: right;\">\n",
       "      <th></th>\n",
       "      <th>flow_start</th>\n",
       "      <th>flow_finish</th>\n",
       "      <th>src_ip</th>\n",
       "      <th>dst_ip</th>\n",
       "      <th>src_port</th>\n",
       "      <th>dst_port</th>\n",
       "      <th>protocol</th>\n",
       "      <th>tcp_stream</th>\n",
       "      <th>conversation</th>\n",
       "    </tr>\n",
       "  </thead>\n",
       "  <tbody>\n",
       "    <tr>\n",
       "      <th>6892</th>\n",
       "      <td>2017-07-07 17:14:05.497</td>\n",
       "      <td>2017-07-07 17:14:11.505</td>\n",
       "      <td>107.22.224.100</td>\n",
       "      <td>192.168.10.50</td>\n",
       "      <td>35550</td>\n",
       "      <td>80</td>\n",
       "      <td>TCP</td>\n",
       "      <td>2993</td>\n",
       "      <td>107.22.224.100-&gt;192.168.10.50</td>\n",
       "    </tr>\n",
       "    <tr>\n",
       "      <th>6896</th>\n",
       "      <td>2017-07-07 17:14:11.541</td>\n",
       "      <td>2017-07-07 17:14:11.876</td>\n",
       "      <td>107.22.224.100</td>\n",
       "      <td>192.168.10.50</td>\n",
       "      <td>35552</td>\n",
       "      <td>80</td>\n",
       "      <td>TCP</td>\n",
       "      <td>2995</td>\n",
       "      <td>107.22.224.100-&gt;192.168.10.50</td>\n",
       "    </tr>\n",
       "    <tr>\n",
       "      <th>6898</th>\n",
       "      <td>2017-07-07 17:14:11.877</td>\n",
       "      <td>2017-07-07 17:14:11.878</td>\n",
       "      <td>107.22.224.100</td>\n",
       "      <td>192.168.10.50</td>\n",
       "      <td>35554</td>\n",
       "      <td>80</td>\n",
       "      <td>TCP</td>\n",
       "      <td>2996</td>\n",
       "      <td>107.22.224.100-&gt;192.168.10.50</td>\n",
       "    </tr>\n",
       "    <tr>\n",
       "      <th>6911</th>\n",
       "      <td>2017-07-07 17:14:17.054</td>\n",
       "      <td>2017-07-07 17:14:23.060</td>\n",
       "      <td>107.22.224.100</td>\n",
       "      <td>192.168.10.50</td>\n",
       "      <td>35560</td>\n",
       "      <td>80</td>\n",
       "      <td>TCP</td>\n",
       "      <td>3006</td>\n",
       "      <td>107.22.224.100-&gt;192.168.10.50</td>\n",
       "    </tr>\n",
       "    <tr>\n",
       "      <th>6913</th>\n",
       "      <td>2017-07-07 17:14:23.099</td>\n",
       "      <td>2017-07-07 17:14:23.486</td>\n",
       "      <td>107.22.224.100</td>\n",
       "      <td>192.168.10.50</td>\n",
       "      <td>35562</td>\n",
       "      <td>80</td>\n",
       "      <td>TCP</td>\n",
       "      <td>3007</td>\n",
       "      <td>107.22.224.100-&gt;192.168.10.50</td>\n",
       "    </tr>\n",
       "  </tbody>\n",
       "</table>\n",
       "</div>"
      ],
      "text/plain": [
       "                  flow_start             flow_finish          src_ip  \\\n",
       "6892 2017-07-07 17:14:05.497 2017-07-07 17:14:11.505  107.22.224.100   \n",
       "6896 2017-07-07 17:14:11.541 2017-07-07 17:14:11.876  107.22.224.100   \n",
       "6898 2017-07-07 17:14:11.877 2017-07-07 17:14:11.878  107.22.224.100   \n",
       "6911 2017-07-07 17:14:17.054 2017-07-07 17:14:23.060  107.22.224.100   \n",
       "6913 2017-07-07 17:14:23.099 2017-07-07 17:14:23.486  107.22.224.100   \n",
       "\n",
       "             dst_ip  src_port  dst_port protocol  tcp_stream  \\\n",
       "6892  192.168.10.50     35550        80      TCP        2993   \n",
       "6896  192.168.10.50     35552        80      TCP        2995   \n",
       "6898  192.168.10.50     35554        80      TCP        2996   \n",
       "6911  192.168.10.50     35560        80      TCP        3006   \n",
       "6913  192.168.10.50     35562        80      TCP        3007   \n",
       "\n",
       "                       conversation  \n",
       "6892  107.22.224.100->192.168.10.50  \n",
       "6896  107.22.224.100->192.168.10.50  \n",
       "6898  107.22.224.100->192.168.10.50  \n",
       "6911  107.22.224.100->192.168.10.50  \n",
       "6913  107.22.224.100->192.168.10.50  "
      ]
     },
     "execution_count": 35,
     "metadata": {},
     "output_type": "execute_result"
    }
   ],
   "source": [
    "df_ddos.head()"
   ]
  },
  {
   "cell_type": "code",
   "execution_count": 24,
   "metadata": {},
   "outputs": [],
   "source": [
    "# save results in file\n",
    "\n",
    "df_ddos.to_csv(\"../outputs/ddos.csv\")"
   ]
  }
 ],
 "metadata": {
  "kernelspec": {
   "display_name": "Python 3",
   "language": "python",
   "name": "python3"
  },
  "language_info": {
   "codemirror_mode": {
    "name": "ipython",
    "version": 3
   },
   "file_extension": ".py",
   "mimetype": "text/x-python",
   "name": "python",
   "nbconvert_exporter": "python",
   "pygments_lexer": "ipython3",
   "version": "3.7.3"
  }
 },
 "nbformat": 4,
 "nbformat_minor": 4
}

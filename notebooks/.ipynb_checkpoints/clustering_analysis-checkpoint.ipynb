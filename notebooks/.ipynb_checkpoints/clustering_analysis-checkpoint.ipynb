{
 "cells": [
  {
   "cell_type": "code",
   "execution_count": 3,
   "metadata": {},
   "outputs": [],
   "source": [
    "import sys\n",
    "sys.path.append(\"../src\")\n",
    "import preprocessing\n",
    "import cconfig\n",
    "import clustering\n",
    "\n",
    "# Plotting defaults\n",
    "%matplotlib inline\n",
    "import matplotlib.pyplot as plt"
   ]
  },
  {
   "cell_type": "markdown",
   "metadata": {},
   "source": [
    "# Load data and preprocess"
   ]
  },
  {
   "cell_type": "code",
   "execution_count": 4,
   "metadata": {},
   "outputs": [],
   "source": [
    "# select type of features and default values\n",
    "selected_features=cconfig.SELECTED_FEATURES_FLOW\n",
    "dataset_type=cconfig.DATASET_TYPE_BIFLOW\n",
    "max_num_clusters=cconfig.DEFAULT_NUM_CLUSTERS\n",
    "sort_anomalies=cconfig.BIFLOW_ANOMALIES_SORT"
   ]
  },
  {
   "cell_type": "markdown",
   "metadata": {},
   "source": [
    "# Bidirectional flow"
   ]
  },
  {
   "cell_type": "code",
   "execution_count": null,
   "metadata": {},
   "outputs": [],
   "source": [
    "# load original data in dataframes, sample, select some features and scale\n",
    "df,df_Normal,df_Attack=preprocessing.data_load(0.01,None,False,dataset_type)\n",
    "print(df.columns)\n",
    "X=preprocessing.data_scale(df[selected_features])\n",
    "X_Normal=preprocessing.data_scale(df_Normal[selected_features])\n",
    "X_Attack=preprocessing.data_scale(df_Attack[selected_features])"
   ]
  },
  {
   "cell_type": "markdown",
   "metadata": {},
   "source": [
    "# KMEANS"
   ]
  },
  {
   "cell_type": "code",
   "execution_count": null,
   "metadata": {},
   "outputs": [],
   "source": [
    "# find the best number of clusters\n",
    "df_silhouette = clustering.kmeans_get_number_clusters(X_Normal)\n",
    "\n",
    "# select best number of clusters for kmeans\n",
    "max_num_clusters=df_silhouette.iloc[df_silhouette.score.idxmax() ]['Num Clusters']\n",
    "\n",
    "# plot the result for reference\n",
    "df_silhouette.plot(x='Num Clusters', y='score')"
   ]
  },
  {
   "cell_type": "code",
   "execution_count": 16,
   "metadata": {},
   "outputs": [
    {
     "name": "stdout",
     "output_type": "stream",
     "text": [
      "Variability explained by the PC: 0.29072658834907605\n",
      "\n",
      "Exporting FLOW_KMEANS...\n",
      "Number of clusters: 2\n",
      "\n",
      "Cluster 0: 23417 data points\n",
      "\n",
      "Cluster 1: 416706 data points\n",
      "\n",
      "DONE.\n",
      "-------------------------------------------------------\n"
     ]
    },
    {
     "data": {
      "image/png": "[encoded data removed]",
      "text/plain": [
       "<Figure size 432x288 with 1 Axes>"
      ]
     },
     "metadata": {
      "needs_background": "light"
     },
     "output_type": "display_data"
    }
   ],
   "source": [
    "# fit kmeans model with normal day data\n",
    "kmeans=clustering.kmeans_train(X_Normal,int(max_num_clusters))\n",
    "\n",
    "# predictions with attack dataset\n",
    "labels=clustering.kmeans_predict(X_Attack,kmeans)\n",
    "\n",
    "# dimensionality reduction\n",
    "XR=preprocessing.get_pc(X_Attack,2)\n",
    "\n",
    "# print results\n",
    "clustering.clustering_print_results(df_Attack,labels,selected_features,XR,True,True,dataset_type+'_kmeans')"
   ]
  },
  {
   "cell_type": "code",
   "execution_count": 17,
   "metadata": {},
   "outputs": [
    {
     "data": {
      "text/html": [
       "<div>\n",
       "<style scoped>\n",
       "    .dataframe tbody tr th:only-of-type {\n",
       "        vertical-align: middle;\n",
       "    }\n",
       "\n",
       "    .dataframe tbody tr th {\n",
       "        vertical-align: top;\n",
       "    }\n",
       "\n",
       "    .dataframe thead th {\n",
       "        text-align: right;\n",
       "    }\n",
       "</style>\n",
       "<table border=\"1\" class=\"dataframe\">\n",
       "  <thead>\n",
       "    <tr style=\"text-align: right;\">\n",
       "      <th></th>\n",
       "      <th>src_ip</th>\n",
       "      <th>dst_ip</th>\n",
       "      <th>src_port</th>\n",
       "      <th>dst_port</th>\n",
       "      <th>fwd_packets</th>\n",
       "      <th>bwd_packets</th>\n",
       "      <th>fwd_bytes</th>\n",
       "      <th>bwd_bytes</th>\n",
       "      <th>fwd_duration</th>\n",
       "      <th>flow_start</th>\n",
       "      <th>...</th>\n",
       "      <th>count_src</th>\n",
       "      <th>count_serv_src</th>\n",
       "      <th>count_serv_dst</th>\n",
       "      <th>count_dest_conn</th>\n",
       "      <th>count_src_conn</th>\n",
       "      <th>count_serv_src_conn</th>\n",
       "      <th>count_count_serv_src_conn</th>\n",
       "      <th>cluster</th>\n",
       "      <th>x</th>\n",
       "      <th>y</th>\n",
       "    </tr>\n",
       "  </thead>\n",
       "  <tbody>\n",
       "    <tr>\n",
       "      <th>430</th>\n",
       "      <td>192.168.10.8</td>\n",
       "      <td>104.24.25.85</td>\n",
       "      <td>5741</td>\n",
       "      <td>80</td>\n",
       "      <td>30</td>\n",
       "      <td>57</td>\n",
       "      <td>0</td>\n",
       "      <td>81760</td>\n",
       "      <td>0.104827</td>\n",
       "      <td>2017-07-07 17:00:14.623</td>\n",
       "      <td>...</td>\n",
       "      <td>0</td>\n",
       "      <td>2</td>\n",
       "      <td>0</td>\n",
       "      <td>4</td>\n",
       "      <td>0</td>\n",
       "      <td>2</td>\n",
       "      <td>0</td>\n",
       "      <td>1</td>\n",
       "      <td>1.104619</td>\n",
       "      <td>4.211180</td>\n",
       "    </tr>\n",
       "    <tr>\n",
       "      <th>439985</th>\n",
       "      <td>192.168.10.14</td>\n",
       "      <td>192.168.10.3</td>\n",
       "      <td>59150</td>\n",
       "      <td>88</td>\n",
       "      <td>1</td>\n",
       "      <td>2</td>\n",
       "      <td>314</td>\n",
       "      <td>3064</td>\n",
       "      <td>0.000000</td>\n",
       "      <td>2017-07-07 20:01:07.658</td>\n",
       "      <td>...</td>\n",
       "      <td>4</td>\n",
       "      <td>3</td>\n",
       "      <td>0</td>\n",
       "      <td>23</td>\n",
       "      <td>8</td>\n",
       "      <td>3</td>\n",
       "      <td>0</td>\n",
       "      <td>0</td>\n",
       "      <td>6.715274</td>\n",
       "      <td>2.799858</td>\n",
       "    </tr>\n",
       "    <tr>\n",
       "      <th>433211</th>\n",
       "      <td>192.168.10.12</td>\n",
       "      <td>192.168.10.3</td>\n",
       "      <td>46914</td>\n",
       "      <td>88</td>\n",
       "      <td>2</td>\n",
       "      <td>2</td>\n",
       "      <td>3110</td>\n",
       "      <td>3108</td>\n",
       "      <td>0.000003</td>\n",
       "      <td>2017-07-07 19:44:03.738</td>\n",
       "      <td>...</td>\n",
       "      <td>2</td>\n",
       "      <td>3</td>\n",
       "      <td>0</td>\n",
       "      <td>17</td>\n",
       "      <td>11</td>\n",
       "      <td>9</td>\n",
       "      <td>0</td>\n",
       "      <td>0</td>\n",
       "      <td>11.318990</td>\n",
       "      <td>0.574315</td>\n",
       "    </tr>\n",
       "    <tr>\n",
       "      <th>426513</th>\n",
       "      <td>192.168.10.50</td>\n",
       "      <td>192.168.10.3</td>\n",
       "      <td>58572</td>\n",
       "      <td>88</td>\n",
       "      <td>2</td>\n",
       "      <td>1</td>\n",
       "      <td>3174</td>\n",
       "      <td>1590</td>\n",
       "      <td>0.000003</td>\n",
       "      <td>2017-07-07 19:25:36.717</td>\n",
       "      <td>...</td>\n",
       "      <td>1</td>\n",
       "      <td>2</td>\n",
       "      <td>0</td>\n",
       "      <td>13</td>\n",
       "      <td>9</td>\n",
       "      <td>40</td>\n",
       "      <td>0</td>\n",
       "      <td>0</td>\n",
       "      <td>10.360966</td>\n",
       "      <td>0.359243</td>\n",
       "    </tr>\n",
       "    <tr>\n",
       "      <th>934</th>\n",
       "      <td>192.168.10.50</td>\n",
       "      <td>192.168.10.16</td>\n",
       "      <td>139</td>\n",
       "      <td>48318</td>\n",
       "      <td>35</td>\n",
       "      <td>74</td>\n",
       "      <td>140</td>\n",
       "      <td>0</td>\n",
       "      <td>10801.397241</td>\n",
       "      <td>2017-07-07 17:01:33.674</td>\n",
       "      <td>...</td>\n",
       "      <td>13</td>\n",
       "      <td>0</td>\n",
       "      <td>0</td>\n",
       "      <td>8</td>\n",
       "      <td>34</td>\n",
       "      <td>0</td>\n",
       "      <td>0</td>\n",
       "      <td>0</td>\n",
       "      <td>79.537496</td>\n",
       "      <td>82.821842</td>\n",
       "    </tr>\n",
       "  </tbody>\n",
       "</table>\n",
       "<p>5 rows × 56 columns</p>\n",
       "</div>"
      ],
      "text/plain": [
       "               src_ip         dst_ip  src_port  dst_port  fwd_packets  \\\n",
       "430      192.168.10.8   104.24.25.85      5741        80           30   \n",
       "439985  192.168.10.14   192.168.10.3     59150        88            1   \n",
       "433211  192.168.10.12   192.168.10.3     46914        88            2   \n",
       "426513  192.168.10.50   192.168.10.3     58572        88            2   \n",
       "934     192.168.10.50  192.168.10.16       139     48318           35   \n",
       "\n",
       "        bwd_packets  fwd_bytes  bwd_bytes  fwd_duration  \\\n",
       "430              57          0      81760      0.104827   \n",
       "439985            2        314       3064      0.000000   \n",
       "433211            2       3110       3108      0.000003   \n",
       "426513            1       3174       1590      0.000003   \n",
       "934              74        140          0  10801.397241   \n",
       "\n",
       "                    flow_start  ...  count_src  count_serv_src  \\\n",
       "430    2017-07-07 17:00:14.623  ...          0               2   \n",
       "439985 2017-07-07 20:01:07.658  ...          4               3   \n",
       "433211 2017-07-07 19:44:03.738  ...          2               3   \n",
       "426513 2017-07-07 19:25:36.717  ...          1               2   \n",
       "934    2017-07-07 17:01:33.674  ...         13               0   \n",
       "\n",
       "        count_serv_dst  count_dest_conn  count_src_conn  count_serv_src_conn  \\\n",
       "430                  0                4               0                    2   \n",
       "439985               0               23               8                    3   \n",
       "433211               0               17              11                    9   \n",
       "426513               0               13               9                   40   \n",
       "934                  0                8              34                    0   \n",
       "\n",
       "       count_count_serv_src_conn  cluster          x          y  \n",
       "430                            0        1   1.104619   4.211180  \n",
       "439985                         0        0   6.715274   2.799858  \n",
       "433211                         0        0  11.318990   0.574315  \n",
       "426513                         0        0  10.360966   0.359243  \n",
       "934                            0        0  79.537496  82.821842  \n",
       "\n",
       "[5 rows x 56 columns]"
      ]
     },
     "execution_count": 17,
     "metadata": {},
     "output_type": "execute_result"
    }
   ],
   "source": [
    "# print anomalies\n",
    "index_anomalies=clustering.kmeans_anomalies(X_Attack,kmeans)\n",
    "df_anomalies=df_Attack.iloc[index_anomalies,:]\n",
    "df_anomalies.sort_values(by=sort_anomalies,ascending=False)"
   ]
  },
  {
   "cell_type": "markdown",
   "metadata": {},
   "source": [
    "# DBSCAN"
   ]
  },
  {
   "cell_type": "code",
   "execution_count": null,
   "metadata": {},
   "outputs": [],
   "source": [
    "# define hyper parameters for dbscan\n",
    "eps=0.5\n",
    "min_samples=26\n",
    "\n",
    "# fit and predict\n",
    "dblabels=clustering.dbscan_fit_predict(eps,min_samples,X)\n",
    "\n",
    "# do dimensionality reduction to plot\n",
    "XR=preprocessing.get_pc(X,2)\n",
    "\n",
    "# print and plot\n",
    "clustering.clustering_print_results(df,dblabels,selected_features,XR,True,True,dataset_type+'_dbscan')"
   ]
  },
  {
   "cell_type": "markdown",
   "metadata": {},
   "source": [
    "# OPTIC"
   ]
  },
  {
   "cell_type": "code",
   "execution_count": null,
   "metadata": {},
   "outputs": [],
   "source": [
    "# define hyper params for optics\n",
    "eps=1.5\n",
    "min_samples=20\n",
    "\n",
    "# predict using optics\n",
    "labels=clustering.optics_fit_predict(X,min_samples,'dbscan', eps)\n",
    "\n",
    "# do dimensionality reduction to plot\n",
    "XR=preprocessing.get_pc(X,2)\n",
    "\n",
    "# print and plot\n",
    "clustering.clustering_print_results(df,labels,selected_features,XR,True,True,dataset_type+'_optic')"
   ]
  },
  {
   "cell_type": "code",
   "execution_count": null,
   "metadata": {},
   "outputs": [],
   "source": [
    "df_anomalies=clustering.optics_anomalies(df,labels)\n",
    "df_anomalies.sort_values(by=sort_anomalies,ascending=False)"
   ]
  },
  {
   "cell_type": "markdown",
   "metadata": {},
   "source": [
    "# IFOREST"
   ]
  },
  {
   "cell_type": "code",
   "execution_count": null,
   "metadata": {},
   "outputs": [],
   "source": [
    "# model iforest\n",
    "iforest=clustering.iforest_train(X_Normal)\n",
    "labels=clustering.iforest_predict(X_Attack,iforest)\n",
    "\n",
    "# dimensionality reduction\n",
    "XR=preprocessing.get_pc(X_Attack,2)\n",
    "\n",
    "# print results\n",
    "clustering.clustering_print_results(df_Attack,labels,selected_features,XR,True,True,dataset_type+'_iforest')"
   ]
  },
  {
   "cell_type": "code",
   "execution_count": null,
   "metadata": {},
   "outputs": [],
   "source": [
    "# get anomalies\n",
    "df_anomalies=clustering.iforest_anomalies(df_Attack,labels)\n",
    "df_anomalies.sort_values(by=sort_anomalies,ascending=False)"
   ]
  },
  {
   "cell_type": "markdown",
   "metadata": {},
   "source": [
    "# LOF"
   ]
  },
  {
   "cell_type": "code",
   "execution_count": null,
   "metadata": {},
   "outputs": [],
   "source": [
    "outliers_fraction=0.05\n",
    "n_neighbors=30\n",
    "labels=clustering.lof_fit_predict(X,outliers_fraction,n_neighbors)\n",
    "\n",
    "# dimensionality reduction\n",
    "XR=preprocessing.get_pc(X,2)\n",
    "\n",
    "# print results\n",
    "clustering.clustering_print_results(df,labels,cconfig.SELECTED_FEATURES_FLOW,XR,True,True,dataset_type+'_lof')"
   ]
  },
  {
   "cell_type": "code",
   "execution_count": null,
   "metadata": {},
   "outputs": [],
   "source": [
    "# get anomalies\n",
    "df_anomalies=clustering.lof_anomalies(df,labels)\n",
    "df_anomalies.sort_values(by=sort_anomalies,ascending=False)"
   ]
  },
  {
   "cell_type": "markdown",
   "metadata": {},
   "source": [
    "# OCSVM"
   ]
  },
  {
   "cell_type": "code",
   "execution_count": null,
   "metadata": {},
   "outputs": [],
   "source": [
    "# train and test the model\n",
    "outliers_fraction=0.05\n",
    "labels=clustering.ocsvm_fit_predict(X_Normal,X_Attack,outliers_fraction)\n",
    "\n",
    "# dimensionality reduction\n",
    "XR=preprocessing.get_pc(X_Attack,3)\n",
    "\n",
    "# print results\n",
    "clustering.clustering_print_results(df_Attack,labels,cconfig.SELECTED_FEATURES_FLOW,XR,True,True,dataset_type+'_ocsvm')"
   ]
  },
  {
   "cell_type": "code",
   "execution_count": null,
   "metadata": {},
   "outputs": [],
   "source": [
    "# get anomalies\n",
    "df_anomalies=clustering.ocsvm_anomalies(df_Attack,labels)\n",
    "df_anomalies.sort_values(by=sort_anomalies,ascending=False)"
   ]
  },
  {
   "cell_type": "code",
   "execution_count": null,
   "metadata": {},
   "outputs": [],
   "source": []
  }
 ],
 "metadata": {
  "kernelspec": {
   "display_name": "Python 3",
   "language": "python",
   "name": "python3"
  },
  "language_info": {
   "codemirror_mode": {
    "name": "ipython",
    "version": 3
   },
   "file_extension": ".py",
   "mimetype": "text/x-python",
   "name": "python",
   "nbconvert_exporter": "python",
   "pygments_lexer": "ipython3",
   "version": "3.7.3"
  }
 },
 "nbformat": 4,
 "nbformat_minor": 4
}

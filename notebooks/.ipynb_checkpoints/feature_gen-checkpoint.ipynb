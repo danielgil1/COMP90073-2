{
 "cells": [
  {
   "cell_type": "code",
   "execution_count": 1,
   "metadata": {},
   "outputs": [],
   "source": [
    "import sys\n",
    "sys.path.append(\"../src\")\n",
    "import preprocessing\n",
    "import cconfig\n",
    "import clustering\n",
    "\n",
    "# Plotting defaults\n",
    "%matplotlib inline\n",
    "import matplotlib.pyplot as plt"
   ]
  },
  {
   "cell_type": "markdown",
   "metadata": {},
   "source": [
    "# Load data and preprocess"
   ]
  },
  {
   "cell_type": "code",
   "execution_count": null,
   "metadata": {},
   "outputs": [],
   "source": [
    "# select type of features and default values\n",
    "selected_features=cconfig.SELECTED_FEATURES_PACKET\n",
    "dataset_type=cconfig.DATASET_TYPE_PACKET\n",
    "\n",
    "# load original data in dataframes, sample, select some features and scale\n",
    "df,df_Normal,df_Attack=preprocessing.data_load(0.01,None,False,dataset_type)\n"
   ]
  },
  {
   "cell_type": "code",
   "execution_count": null,
   "metadata": {},
   "outputs": [],
   "source": [
    "\n"
   ]
  },
  {
   "cell_type": "code",
   "execution_count": 3,
   "metadata": {},
   "outputs": [],
   "source": [
    "import pandas as pd\n",
    "\n",
    "df_1=pd.read_csv(\"../inputs/test.csv\")\n",
    "df_2=pd.read_csv(\"../inputs/test.csv\")"
   ]
  },
  {
   "cell_type": "code",
   "execution_count": 5,
   "metadata": {},
   "outputs": [
    {
     "data": {
      "text/plain": [
       "Index(['tcp_stream', 'src_ip', 'src_port', 'dst_ip', 'dst_port', 'protocol',\n",
       "       'total_packets', 'total_bytes'],\n",
       "      dtype='object')"
      ]
     },
     "execution_count": 5,
     "metadata": {},
     "output_type": "execute_result"
    }
   ],
   "source": [
    "df_1.columns"
   ]
  },
  {
   "cell_type": "code",
   "execution_count": 4,
   "metadata": {},
   "outputs": [
    {
     "data": {
      "text/html": [
       "<div>\n",
       "<style scoped>\n",
       "    .dataframe tbody tr th:only-of-type {\n",
       "        vertical-align: middle;\n",
       "    }\n",
       "\n",
       "    .dataframe tbody tr th {\n",
       "        vertical-align: top;\n",
       "    }\n",
       "\n",
       "    .dataframe thead th {\n",
       "        text-align: right;\n",
       "    }\n",
       "</style>\n",
       "<table border=\"1\" class=\"dataframe\">\n",
       "  <thead>\n",
       "    <tr style=\"text-align: right;\">\n",
       "      <th></th>\n",
       "      <th>tcp_stream</th>\n",
       "      <th>src_ip</th>\n",
       "      <th>src_port</th>\n",
       "      <th>dst_ip</th>\n",
       "      <th>dst_port</th>\n",
       "      <th>protocol</th>\n",
       "      <th>total_packets</th>\n",
       "      <th>total_bytes</th>\n",
       "    </tr>\n",
       "  </thead>\n",
       "  <tbody>\n",
       "    <tr>\n",
       "      <td>0</td>\n",
       "      <td>18098</td>\n",
       "      <td>192.168.10.25</td>\n",
       "      <td>64286</td>\n",
       "      <td>52.9.9.68</td>\n",
       "      <td>443</td>\n",
       "      <td>TCP</td>\n",
       "      <td>10</td>\n",
       "      <td>0</td>\n",
       "    </tr>\n",
       "    <tr>\n",
       "      <td>1</td>\n",
       "      <td>18098</td>\n",
       "      <td>192.168.10.25</td>\n",
       "      <td>64286</td>\n",
       "      <td>52.9.9.68</td>\n",
       "      <td>443</td>\n",
       "      <td>TLSv1</td>\n",
       "      <td>5</td>\n",
       "      <td>704</td>\n",
       "    </tr>\n",
       "    <tr>\n",
       "      <td>2</td>\n",
       "      <td>18098</td>\n",
       "      <td>192.168.10.8</td>\n",
       "      <td>51152</td>\n",
       "      <td>192.243.250.36</td>\n",
       "      <td>80</td>\n",
       "      <td>HTTP</td>\n",
       "      <td>1</td>\n",
       "      <td>516</td>\n",
       "    </tr>\n",
       "    <tr>\n",
       "      <td>3</td>\n",
       "      <td>18098</td>\n",
       "      <td>192.168.10.8</td>\n",
       "      <td>51152</td>\n",
       "      <td>192.243.250.36</td>\n",
       "      <td>80</td>\n",
       "      <td>TCP</td>\n",
       "      <td>6</td>\n",
       "      <td>1</td>\n",
       "    </tr>\n",
       "    <tr>\n",
       "      <td>4</td>\n",
       "      <td>18098</td>\n",
       "      <td>192.243.250.36</td>\n",
       "      <td>80</td>\n",
       "      <td>192.168.10.8</td>\n",
       "      <td>51152</td>\n",
       "      <td>HTTP</td>\n",
       "      <td>1</td>\n",
       "      <td>1122</td>\n",
       "    </tr>\n",
       "    <tr>\n",
       "      <td>5</td>\n",
       "      <td>18098</td>\n",
       "      <td>192.243.250.36</td>\n",
       "      <td>80</td>\n",
       "      <td>192.168.10.8</td>\n",
       "      <td>51152</td>\n",
       "      <td>TCP</td>\n",
       "      <td>4</td>\n",
       "      <td>1122</td>\n",
       "    </tr>\n",
       "    <tr>\n",
       "      <td>6</td>\n",
       "      <td>18098</td>\n",
       "      <td>52.9.9.68</td>\n",
       "      <td>443</td>\n",
       "      <td>192.168.10.25</td>\n",
       "      <td>64286</td>\n",
       "      <td>TCP</td>\n",
       "      <td>6</td>\n",
       "      <td>0</td>\n",
       "    </tr>\n",
       "    <tr>\n",
       "      <td>7</td>\n",
       "      <td>18098</td>\n",
       "      <td>52.9.9.68</td>\n",
       "      <td>443</td>\n",
       "      <td>192.168.10.25</td>\n",
       "      <td>64286</td>\n",
       "      <td>TLSv1</td>\n",
       "      <td>4</td>\n",
       "      <td>1401</td>\n",
       "    </tr>\n",
       "  </tbody>\n",
       "</table>\n",
       "</div>"
      ],
      "text/plain": [
       "   tcp_stream          src_ip  src_port          dst_ip  dst_port protocol  \\\n",
       "0       18098   192.168.10.25     64286       52.9.9.68       443      TCP   \n",
       "1       18098   192.168.10.25     64286       52.9.9.68       443    TLSv1   \n",
       "2       18098    192.168.10.8     51152  192.243.250.36        80     HTTP   \n",
       "3       18098    192.168.10.8     51152  192.243.250.36        80      TCP   \n",
       "4       18098  192.243.250.36        80    192.168.10.8     51152     HTTP   \n",
       "5       18098  192.243.250.36        80    192.168.10.8     51152      TCP   \n",
       "6       18098       52.9.9.68       443   192.168.10.25     64286      TCP   \n",
       "7       18098       52.9.9.68       443   192.168.10.25     64286    TLSv1   \n",
       "\n",
       "   total_packets  total_bytes  \n",
       "0             10            0  \n",
       "1              5          704  \n",
       "2              1          516  \n",
       "3              6            1  \n",
       "4              1         1122  \n",
       "5              4         1122  \n",
       "6              6            0  \n",
       "7              4         1401  "
      ]
     },
     "execution_count": 4,
     "metadata": {},
     "output_type": "execute_result"
    }
   ],
   "source": [
    "df_1"
   ]
  },
  {
   "cell_type": "code",
   "execution_count": 13,
   "metadata": {},
   "outputs": [
    {
     "data": {
      "text/plain": [
       "<pandas.core.groupby.generic.DataFrameGroupBy object at 0x1a2020a290>"
      ]
     },
     "execution_count": 13,
     "metadata": {},
     "output_type": "execute_result"
    }
   ],
   "source": [
    "df_flow=df_1.groupby(['tcp_stream', 'src_ip', 'src_port', 'dst_ip', 'dst_port', 'protocol'])\n",
    "#df_flow=df_1.groupby('tcp_stream')\n",
    "df_flow"
   ]
  },
  {
   "cell_type": "code",
   "execution_count": 14,
   "metadata": {},
   "outputs": [
    {
     "name": "stdout",
     "output_type": "stream",
     "text": [
      "(18098, '192.168.10.25', 64286, '52.9.9.68', 443, 'TCP')    tcp_stream         src_ip  src_port     dst_ip  dst_port protocol  \\\n",
      "0       18098  192.168.10.25     64286  52.9.9.68       443      TCP   \n",
      "\n",
      "   total_packets  total_bytes  \n",
      "0             10            0  \n",
      "(18098, '192.168.10.25', 64286, '52.9.9.68', 443, 'TLSv1')    tcp_stream         src_ip  src_port     dst_ip  dst_port protocol  \\\n",
      "1       18098  192.168.10.25     64286  52.9.9.68       443    TLSv1   \n",
      "\n",
      "   total_packets  total_bytes  \n",
      "1              5          704  \n",
      "(18098, '192.168.10.8', 51152, '192.243.250.36', 80, 'HTTP')    tcp_stream        src_ip  src_port          dst_ip  dst_port protocol  \\\n",
      "2       18098  192.168.10.8     51152  192.243.250.36        80     HTTP   \n",
      "\n",
      "   total_packets  total_bytes  \n",
      "2              1          516  \n",
      "(18098, '192.168.10.8', 51152, '192.243.250.36', 80, 'TCP')    tcp_stream        src_ip  src_port          dst_ip  dst_port protocol  \\\n",
      "3       18098  192.168.10.8     51152  192.243.250.36        80      TCP   \n",
      "\n",
      "   total_packets  total_bytes  \n",
      "3              6            1  \n",
      "(18098, '192.243.250.36', 80, '192.168.10.8', 51152, 'HTTP')    tcp_stream          src_ip  src_port        dst_ip  dst_port protocol  \\\n",
      "4       18098  192.243.250.36        80  192.168.10.8     51152     HTTP   \n",
      "\n",
      "   total_packets  total_bytes  \n",
      "4              1         1122  \n",
      "(18098, '192.243.250.36', 80, '192.168.10.8', 51152, 'TCP')    tcp_stream          src_ip  src_port        dst_ip  dst_port protocol  \\\n",
      "5       18098  192.243.250.36        80  192.168.10.8     51152      TCP   \n",
      "\n",
      "   total_packets  total_bytes  \n",
      "5              4         1122  \n",
      "(18098, '52.9.9.68', 443, '192.168.10.25', 64286, 'TCP')    tcp_stream     src_ip  src_port         dst_ip  dst_port protocol  \\\n",
      "6       18098  52.9.9.68       443  192.168.10.25     64286      TCP   \n",
      "\n",
      "   total_packets  total_bytes  \n",
      "6              6            0  \n",
      "(18098, '52.9.9.68', 443, '192.168.10.25', 64286, 'TLSv1')    tcp_stream     src_ip  src_port         dst_ip  dst_port protocol  \\\n",
      "7       18098  52.9.9.68       443  192.168.10.25     64286    TLSv1   \n",
      "\n",
      "   total_packets  total_bytes  \n",
      "7              4         1401  \n"
     ]
    }
   ],
   "source": [
    "for key,group in df_flow:\n",
    "    print(key,group)"
   ]
  },
  {
   "cell_type": "code",
   "execution_count": 3,
   "metadata": {},
   "outputs": [],
   "source": [
    "from scapy.all import *"
   ]
  },
  {
   "cell_type": "code",
   "execution_count": null,
   "metadata": {},
   "outputs": [],
   "source": [
    "myreader = scapy.PcapReader(filename)\n",
    "\n",
    "while True:\n",
    "    packet = myreader.read_packet()\n",
    "    if packet is None:\n",
    "        break"
   ]
  },
  {
   "cell_type": "code",
   "execution_count": null,
   "metadata": {},
   "outputs": [],
   "source": [
    "with PcapReader('file.pcap') as pr:\n",
    "  for p in pr:\n",
    "    ...do something with a packet p.."
   ]
  }
 ],
 "metadata": {
  "kernelspec": {
   "display_name": "Python 3",
   "language": "python",
   "name": "python3"
  },
  "language_info": {
   "codemirror_mode": {
    "name": "ipython",
    "version": 3
   },
   "file_extension": ".py",
   "mimetype": "text/x-python",
   "name": "python",
   "nbconvert_exporter": "python",
   "pygments_lexer": "ipython3",
   "version": "3.7.4"
  }
 },
 "nbformat": 4,
 "nbformat_minor": 4
}

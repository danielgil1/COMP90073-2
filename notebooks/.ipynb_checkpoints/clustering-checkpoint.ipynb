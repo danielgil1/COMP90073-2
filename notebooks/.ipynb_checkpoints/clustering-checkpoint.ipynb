{
 "cells": [
  {
   "cell_type": "code",
   "execution_count": null,
   "metadata": {},
   "outputs": [],
   "source": [
    "import sys\n",
    "sys.path.append(\"../src\")\n",
    "import preprocessing\n",
    "import cconfig\n",
    "import clustering\n",
    "\n",
    "# Plotting defaults\n",
    "%matplotlib inline\n",
    "import matplotlib.pyplot as plt\n",
    "\n"
   ]
  },
  {
   "cell_type": "markdown",
   "metadata": {},
   "source": [
    "# Load data and preprocess"
   ]
  },
  {
   "cell_type": "code",
   "execution_count": null,
   "metadata": {},
   "outputs": [],
   "source": [
    "# load original data in dataframes, sample, select some features and scale\n",
    "df,df_Normal,df_Attack=preprocessing.data_load(0.1,None ,False)\n",
    "X=preprocessing.data_scale(df[cconfig.SELECTED_FEATURES_FLOW])\n",
    "X_Normal=preprocessing.data_scale(df_Normal[cconfig.SELECTED_FEATURES_FLOW])\n",
    "X_Attack=preprocessing.data_scale(df_Attack[cconfig.SELECTED_FEATURES_FLOW])"
   ]
  },
  {
   "cell_type": "markdown",
   "metadata": {},
   "source": [
    "# KMEANS"
   ]
  },
  {
   "cell_type": "code",
   "execution_count": null,
   "metadata": {},
   "outputs": [],
   "source": [
    "# find the best number of clusters\n",
    "df_silhouette = clustering.kmeans_get_number_clusters(X_Normal)\n",
    "\n",
    "# select best number of clusters for kmeans\n",
    "num_clusters=df_silhouette.iloc[df_silhouette.score.idxmax() ]['Num Clusters']\n",
    "\n",
    "# plot the result for reference\n",
    "df_silhouette.plot(x='Num Clusters', y='score')"
   ]
  },
  {
   "cell_type": "code",
   "execution_count": null,
   "metadata": {},
   "outputs": [],
   "source": [
    "# fit kmeans model with normal day data\n",
    "kmeans=clustering.kmeans_train(X_Normal,num_clusters)\n",
    "\n",
    "# predictions with attack dataset\n",
    "labels=clustering.kmeans_predict(X_Attack,kmeans)\n",
    "\n",
    "# dimensionality reduction\n",
    "XR=preprocessing.get_pc(X_Attack,2)\n",
    "\n",
    "# print results\n",
    "clustering.clustering_print_results(df_Attack,labels,cconfig.SELECTED_FEATURES_FLOW,XR,True,True)"
   ]
  },
  {
   "cell_type": "markdown",
   "metadata": {},
   "source": [
    "# DBSCAN"
   ]
  },
  {
   "cell_type": "code",
   "execution_count": null,
   "metadata": {},
   "outputs": [],
   "source": [
    "# define hyper parameters for dbscan\n",
    "eps=0.5\n",
    "min_samples=100\n",
    "\n",
    "# fit and predict\n",
    "dblabels=clustering.dbscan_fit_predict(eps,min_samples,X)\n",
    "\n",
    "# do dimensionality reduction to plot\n",
    "XR=preprocessing.get_pc(X,2)\n",
    "\n",
    "# print and plot\n",
    "clustering.clustering_print_results(df,dblabels,cconfig.SELECTED_FEATURES_FLOW,XR,True,True)"
   ]
  },
  {
   "cell_type": "markdown",
   "metadata": {},
   "source": [
    "# OPTIC"
   ]
  },
  {
   "cell_type": "code",
   "execution_count": null,
   "metadata": {},
   "outputs": [],
   "source": [
    "# define hyper params for optics\n",
    "eps=0.5\n",
    "min_samples=100\n",
    "\n",
    "clustering.optics_fit_predict(X,min_samples, cluster_method='dbscan', eps)"
   ]
  },
  {
   "cell_type": "markdown",
   "metadata": {},
   "source": [
    "# IFOREST"
   ]
  },
  {
   "cell_type": "code",
   "execution_count": null,
   "metadata": {},
   "outputs": [],
   "source": [
    "# model iforest\n",
    "iforest=clustering.iforest_train(X_Normal)\n",
    "labels=clustering.iforest_predict(X_Attack,iforest)\n",
    "\n",
    "# dimensionality reduction\n",
    "XR=preprocessing.get_pc(X_Attack,2)\n",
    "\n",
    "# print results\n",
    "clustering.clustering_print_results(df_Attack,labels,cconfig.SELECTED_FEATURES_FLOW,XR,True,True)"
   ]
  },
  {
   "cell_type": "code",
   "execution_count": null,
   "metadata": {},
   "outputs": [],
   "source": []
  }
 ],
 "metadata": {
  "kernelspec": {
   "display_name": "Python 3",
   "language": "python",
   "name": "python3"
  },
  "language_info": {
   "codemirror_mode": {
    "name": "ipython",
    "version": 3
   },
   "file_extension": ".py",
   "mimetype": "text/x-python",
   "name": "python",
   "nbconvert_exporter": "python",
   "pygments_lexer": "ipython3",
   "version": "3.7.4"
  }
 },
 "nbformat": 4,
 "nbformat_minor": 4
}

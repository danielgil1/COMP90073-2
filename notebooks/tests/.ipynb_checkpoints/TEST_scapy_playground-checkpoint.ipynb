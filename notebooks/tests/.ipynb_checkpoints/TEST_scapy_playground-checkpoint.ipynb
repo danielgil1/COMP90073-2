{
 "cells": [
  {
   "cell_type": "code",
   "execution_count": 2,
   "metadata": {},
   "outputs": [
    {
     "name": "stdout",
     "output_type": "stream",
     "text": [
      "800000\n"
     ]
    }
   ],
   "source": [
    "#!pip install --pre scapy[complete]\n",
    "\n",
    "from scapy.all import *\n",
    "import requests, json, re\n",
    "\n",
    "count = 0\n",
    "for (pkt, pktmeta,) in RawPcapReader(\"../../data/NormalDay/day2_1.pcap\"):\n",
    "    count += 1\n",
    "    \n",
    "print(count)"
   ]
  },
  {
   "cell_type": "code",
   "execution_count": 5,
   "metadata": {},
   "outputs": [],
   "source": [
    "# Scapy provides this via import statements\n",
    "from scapy.layers.l2 import Ether\n",
    "from scapy.layers.inet import IP\n",
    "from scapy.layers.inet import TCP, UDP\n",
    "import pandas as pd"
   ]
  },
  {
   "cell_type": "code",
   "execution_count": 7,
   "metadata": {},
   "outputs": [
    {
     "data": {
      "text/plain": [
       "['version',\n",
       " 'ihl',\n",
       " 'tos',\n",
       " 'len',\n",
       " 'id',\n",
       " 'flags',\n",
       " 'frag',\n",
       " 'ttl',\n",
       " 'proto',\n",
       " 'chksum',\n",
       " 'src',\n",
       " 'dst',\n",
       " 'options',\n",
       " 'time',\n",
       " 'sport',\n",
       " 'dport',\n",
       " 'seq',\n",
       " 'ack',\n",
       " 'dataofs',\n",
       " 'reserved',\n",
       " 'flags',\n",
       " 'window',\n",
       " 'chksum',\n",
       " 'urgptr',\n",
       " 'options',\n",
       " 'payload',\n",
       " 'payload_raw',\n",
       " 'payload_hex']"
      ]
     },
     "execution_count": 7,
     "metadata": {},
     "output_type": "execute_result"
    }
   ],
   "source": [
    "# Collect field names from IP/TCP/UDP (These will be columns in DF)\n",
    "ip_fields = [field.name for field in IP().fields_desc]\n",
    "tcp_fields = [field.name for field in TCP().fields_desc]\n",
    "udp_fields = [field.name for field in UDP().fields_desc]\n",
    "\n",
    "dataframe_fields = ip_fields + ['time'] + tcp_fields + ['payload','payload_raw','payload_hex']\n",
    "\n",
    "# Create blank DataFrame\n",
    "df = pd.DataFrame(columns=dataframe_fields)\n",
    "dataframe_fields"
   ]
  },
  {
   "cell_type": "code",
   "execution_count": 10,
   "metadata": {},
   "outputs": [
    {
     "ename": "TypeError",
     "evalue": "byte indices must be integers or slices, not Packet_metaclass",
     "output_type": "error",
     "traceback": [
      "\u001b[0;31m---------------------------------------------------------------------------\u001b[0m",
      "\u001b[0;31mTypeError\u001b[0m                                 Traceback (most recent call last)",
      "\u001b[0;32m<ipython-input-10-f6a49dc1bb1f>\u001b[0m in \u001b[0;36m<module>\u001b[0;34m\u001b[0m\n\u001b[1;32m      8\u001b[0m             \u001b[0mfield_values\u001b[0m\u001b[0;34m.\u001b[0m\u001b[0mappend\u001b[0m\u001b[0;34m(\u001b[0m\u001b[0mlen\u001b[0m\u001b[0;34m(\u001b[0m\u001b[0mpacket\u001b[0m\u001b[0;34m[\u001b[0m\u001b[0mIP\u001b[0m\u001b[0;34m]\u001b[0m\u001b[0;34m.\u001b[0m\u001b[0mfields\u001b[0m\u001b[0;34m[\u001b[0m\u001b[0mfield\u001b[0m\u001b[0;34m]\u001b[0m\u001b[0;34m)\u001b[0m\u001b[0;34m)\u001b[0m\u001b[0;34m\u001b[0m\u001b[0;34m\u001b[0m\u001b[0m\n\u001b[1;32m      9\u001b[0m         \u001b[0;32melse\u001b[0m\u001b[0;34m:\u001b[0m\u001b[0;34m\u001b[0m\u001b[0;34m\u001b[0m\u001b[0m\n\u001b[0;32m---> 10\u001b[0;31m             \u001b[0mfield_values\u001b[0m\u001b[0;34m.\u001b[0m\u001b[0mappend\u001b[0m\u001b[0;34m(\u001b[0m\u001b[0mpacket\u001b[0m\u001b[0;34m[\u001b[0m\u001b[0mIP\u001b[0m\u001b[0;34m]\u001b[0m\u001b[0;34m.\u001b[0m\u001b[0mfields\u001b[0m\u001b[0;34m[\u001b[0m\u001b[0mfield\u001b[0m\u001b[0;34m]\u001b[0m\u001b[0;34m)\u001b[0m\u001b[0;34m\u001b[0m\u001b[0;34m\u001b[0m\u001b[0m\n\u001b[0m\u001b[1;32m     11\u001b[0m \u001b[0;34m\u001b[0m\u001b[0m\n\u001b[1;32m     12\u001b[0m     \u001b[0mfield_values\u001b[0m\u001b[0;34m.\u001b[0m\u001b[0mappend\u001b[0m\u001b[0;34m(\u001b[0m\u001b[0mpacket\u001b[0m\u001b[0;34m.\u001b[0m\u001b[0mtime\u001b[0m\u001b[0;34m)\u001b[0m\u001b[0;34m\u001b[0m\u001b[0;34m\u001b[0m\u001b[0m\n",
      "\u001b[0;31mTypeError\u001b[0m: byte indices must be integers or slices, not Packet_metaclass"
     ]
    }
   ],
   "source": [
    "for (packet, pktmeta,) in RawPcapReader(\"../../data/NormalDay/day2_1.pcap\"):\n",
    "    # Field array for each row of DataFrame\n",
    "    field_values = []\n",
    "    # Add all IP fields to dataframe\n",
    "    for field in ip_fields:\n",
    "        if field == 'options':\n",
    "            # Retrieving number of options defined in IP Header\n",
    "            field_values.append(len(packet[IP].fields[field]))\n",
    "        else:\n",
    "            field_values.append(packet[IP].fields[field])\n",
    "    \n",
    "    field_values.append(packet.time)\n",
    "    \n",
    "    layer_type = type(packet[IP].payload)\n",
    "    for field in tcp_fields:\n",
    "        try:\n",
    "            if field == 'options':\n",
    "                field_values.append(len(packet[layer_type].fields[field]))\n",
    "            else:\n",
    "                field_values.append(packet[layer_type].fields[field])\n",
    "        except:\n",
    "            field_values.append(None)\n",
    "    \n",
    "    # Append payload\n",
    "    field_values.append(len(packet[layer_type].payload))\n",
    "    field_values.append(packet[layer_type].payload.original)\n",
    "    field_values.append(binascii.hexlify(packet[layer_type].payload.original))\n",
    "    # Add row to DF\n",
    "    df_append = pd.DataFrame([field_values], columns=dataframe_fields)\n",
    "    df = pd.concat([df, df_append], axis=0)\n",
    "\n",
    "# Reset Index\n",
    "df = df.reset_index()\n",
    "# Drop old index column\n",
    "df = df.drop(columns=\"index\")"
   ]
  },
  {
   "cell_type": "code",
   "execution_count": null,
   "metadata": {},
   "outputs": [],
   "source": [
    "#scapy_cap = rdpcap(\"../../data/NormalDay/day2_1.pcap\")\n",
    "count=0\n",
    "def my_method(ethernet_frame):\n",
    "    #count+=1\n",
    "    ip_packet = ethernet_frame.payload\n",
    "    segment = ip_packet.payload\n",
    "    data = segment.payload\n",
    "    print(\"ETHERNET:\",ethernet_frame.summary())\n",
    "    print(\"IP: \",ip_packet.summary())\n",
    "    print(\"Segment:\",segment.summary())\n",
    "    print(\"Data:\",data.summary())\n",
    "\n",
    "sniff(offline='../../data/NormalDay/day2_1.pcap', prn=my_method,store=0,count=10)"
   ]
  }
 ],
 "metadata": {
  "kernelspec": {
   "display_name": "Python 3",
   "language": "python",
   "name": "python3"
  },
  "language_info": {
   "codemirror_mode": {
    "name": "ipython",
    "version": 3
   },
   "file_extension": ".py",
   "mimetype": "text/x-python",
   "name": "python",
   "nbconvert_exporter": "python",
   "pygments_lexer": "ipython3",
   "version": "3.7.3"
  }
 },
 "nbformat": 4,
 "nbformat_minor": 4
}

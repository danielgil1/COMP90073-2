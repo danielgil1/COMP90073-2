{
 "cells": [
  {
   "cell_type": "code",
   "execution_count": 1,
   "metadata": {},
   "outputs": [],
   "source": [
    "import sys\n",
    "sys.path.append(\"../src\")\n",
    "import preprocessing\n",
    "import cconfig\n",
    "import clustering\n",
    "\n",
    "# Plotting defaults\n",
    "%matplotlib inline\n",
    "import matplotlib.pyplot as plt"
   ]
  },
  {
   "cell_type": "markdown",
   "metadata": {},
   "source": [
    "# Load data and preprocess"
   ]
  },
  {
   "cell_type": "code",
   "execution_count": null,
   "metadata": {},
   "outputs": [],
   "source": [
    "# select type of features and default values\n",
    "selected_features=cconfig.SELECTED_FEATURES_PACKET\n",
    "dataset_type=cconfig.DATASET_TYPE_PACKET\n",
    "\n",
    "# load original data in dataframes, sample, select some features and scale\n",
    "df,df_Normal,df_Attack=preprocessing.data_load(0.01,None,False,dataset_type)\n"
   ]
  },
  {
   "cell_type": "code",
   "execution_count": 31,
   "metadata": {},
   "outputs": [
    {
     "name": "stdout",
     "output_type": "stream",
     "text": [
      "Columns: Index(['tcp_stream', 'protocol', 'flow_id', 'flow_start', 'flow_finish',\n",
      "       'src_ip', 'src_port', 'dst_ip', 'dst_port', 'total_duration',\n",
      "       'start_time', 'finish_time', 'total_packets', 'total_bytes', 'pps',\n",
      "       'bps', 'bpp', 'total_http_errors', 'total_failures', 'flag_ack',\n",
      "       'flag_fin', 'flag_psh', 'flag_rst', 'flag_syn', 'first_flag',\n",
      "       'last_flag'],\n",
      "      dtype='object')\n",
      "Total Unidirectional Flows: 269240\n"
     ]
    }
   ],
   "source": [
    "import pandas as pd\n",
    "\n",
    "df=pd.read_csv(\"../inputs/a2_feat_packet_level_normal_OCT8.csv\")\n",
    "df=df.sort_values(by=['tcp_stream','protocol','flow_start'])\n",
    "print(\"Columns:\",df.columns)\n",
    "print(\"Total Unidirectional Flows:\",len(df))"
   ]
  },
  {
   "cell_type": "code",
   "execution_count": 40,
   "metadata": {},
   "outputs": [],
   "source": [
    "def generate_basic_features(data):\n",
    "    colFlows=list()\n",
    "    i=0\n",
    "    for index,data in df.groupby(['tcp_stream','protocol']):\n",
    "        i+=1\n",
    "        # initalize a new flow\n",
    "        print(\"Generating for:\"),data[['tcp_stream','protocol','flow_id']])\n",
    "        flow={}\n",
    "        flow['tcp_stream']=index[0]\n",
    "        flow['protocol']=index[1]\n",
    "        flow['fwd_packets']=0\n",
    "        flow['fwd_bytes']=0\n",
    "        flow['bwd_bytes']=0\n",
    "        flow['bwd_packets']=0\n",
    "        flow['total_bytes']=0\n",
    "        flow['total_packets']=0\n",
    "        flow['fwd_duration']=0\n",
    "        flow['bwd_duration']=0\n",
    "        flow_list=list()\n",
    "        # go through conversations (unidirectional flows) to generate the flows\n",
    "        for index_conversation,conversation in data.iterrows():\n",
    "            # check if conversation already exists\n",
    "            isnewflow=True\n",
    "            for f in flow_list:\n",
    "                if conversation.src_ip==f.get('src_ip',\"\"):\n",
    "                    isnewflow=False\n",
    "                    f['fwd_packets']=f.get('fwd_packets',0)+conversation.total_packets\n",
    "                elif conversation.src_ip==flow.get('dst_ip',\"\"):\n",
    "                    isnewflow=False\n",
    "                    f['bwd_packets']=f.get('bwd_packets',0)+conversation.total_packets\n",
    "            \n",
    "            if isnewflow:\n",
    "                new_flow={}\n",
    "                new_flow['src_ip']=conversation.src_ip\n",
    "                new_flow['dst_ip']=conversation.dst_ip\n",
    "                new_flow['fwd_packets']=conversation.total_packets\n",
    "                flow_list.append(new_flow)\n",
    "        \n",
    "        print(flow)\n",
    "        print(flow_list)\n",
    "        break"
   ]
  },
  {
   "cell_type": "code",
   "execution_count": 41,
   "metadata": {},
   "outputs": [
    {
     "name": "stdout",
     "output_type": "stream",
     "text": [
      "Generating for:    tcp_stream protocol                              flow_id\n",
      "2           0     HTTP  192.168.10.14:50095->13.107.4.50:80\n",
      "0           0     HTTP  13.107.4.50:80->192.168.10.14:50095\n",
      "3           0     HTTP  192.168.10.15:49647->13.107.4.50:80\n",
      "1           0     HTTP  13.107.4.50:80->192.168.10.15:49647\n",
      "{'tcp_stream': 0, 'protocol': 'HTTP', 'fwd_packets': 0, 'fwd_bytes': 0, 'bwd_bytes': 0, 'bwd_packets': 0, 'total_bytes': 0, 'total_packets': 0, 'fwd_duration': 0, 'bwd_duration': 0}\n",
      "[{'src_ip': '192.168.10.14', 'dst_ip': '13.107.4.50', 'fwd_packets': 291}, {'src_ip': '13.107.4.50', 'dst_ip': '192.168.10.14', 'fwd_packets': 372}, {'src_ip': '192.168.10.15', 'dst_ip': '13.107.4.50', 'fwd_packets': 465}]\n"
     ]
    }
   ],
   "source": [
    "generate_basic_features(df)"
   ]
  },
  {
   "cell_type": "code",
   "execution_count": null,
   "metadata": {},
   "outputs": [],
   "source": []
  },
  {
   "cell_type": "code",
   "execution_count": null,
   "metadata": {},
   "outputs": [],
   "source": []
  },
  {
   "cell_type": "code",
   "execution_count": null,
   "metadata": {},
   "outputs": [],
   "source": []
  },
  {
   "cell_type": "code",
   "execution_count": null,
   "metadata": {},
   "outputs": [],
   "source": []
  },
  {
   "cell_type": "code",
   "execution_count": null,
   "metadata": {},
   "outputs": [],
   "source": []
  },
  {
   "cell_type": "code",
   "execution_count": null,
   "metadata": {},
   "outputs": [],
   "source": []
  },
  {
   "cell_type": "code",
   "execution_count": null,
   "metadata": {},
   "outputs": [],
   "source": []
  },
  {
   "cell_type": "code",
   "execution_count": null,
   "metadata": {},
   "outputs": [],
   "source": []
  },
  {
   "cell_type": "code",
   "execution_count": null,
   "metadata": {},
   "outputs": [],
   "source": []
  },
  {
   "cell_type": "code",
   "execution_count": null,
   "metadata": {},
   "outputs": [],
   "source": []
  },
  {
   "cell_type": "code",
   "execution_count": null,
   "metadata": {},
   "outputs": [],
   "source": []
  },
  {
   "cell_type": "code",
   "execution_count": null,
   "metadata": {},
   "outputs": [],
   "source": []
  },
  {
   "cell_type": "code",
   "execution_count": null,
   "metadata": {},
   "outputs": [],
   "source": []
  },
  {
   "cell_type": "code",
   "execution_count": null,
   "metadata": {},
   "outputs": [],
   "source": []
  },
  {
   "cell_type": "code",
   "execution_count": null,
   "metadata": {},
   "outputs": [],
   "source": []
  },
  {
   "cell_type": "code",
   "execution_count": 10,
   "metadata": {},
   "outputs": [
    {
     "data": {
      "text/plain": [
       "36"
      ]
     },
     "execution_count": 10,
     "metadata": {},
     "output_type": "execute_result"
    }
   ],
   "source": [
    "len(df.groupby(['protocol','flow_id']))"
   ]
  },
  {
   "cell_type": "code",
   "execution_count": 20,
   "metadata": {},
   "outputs": [
    {
     "data": {
      "text/plain": [
       "36"
      ]
     },
     "execution_count": 20,
     "metadata": {},
     "output_type": "execute_result"
    }
   ],
   "source": [
    "len(df)"
   ]
  },
  {
   "cell_type": "code",
   "execution_count": 4,
   "metadata": {},
   "outputs": [
    {
     "name": "stdout",
     "output_type": "stream",
     "text": [
      "14\n"
     ]
    }
   ],
   "source": [
    "print(len(df.src_ip.unique()))\n",
    "size=len(df.groupby(['tcp_stream','protocol','src_ip','src_port','dst_ip','dst_port']))"
   ]
  },
  {
   "cell_type": "code",
   "execution_count": null,
   "metadata": {},
   "outputs": [],
   "source": [
    "src_ip_list=list()\n",
    "    dst_ip_list=list()\n",
    "    if "
   ]
  },
  {
   "cell_type": "code",
   "execution_count": null,
   "metadata": {},
   "outputs": [],
   "source": [
    "tcp_stream_list=list()\n",
    "protocol_list=list()\n",
    "\n",
    "index_list=0\n",
    "for index,data in df.groupby(['tcp_stream','protocol']):\n",
    "    tcp_stream_list.append(data.tcp_stream)\n",
    "    protocol_list.append(data.protocol)\n",
    "    src_ip_list=list()\n",
    "    dst_ip_list=list()\n",
    "    fwd_packets=list()\n",
    "    for index_uni_flow,uni_flow in data.iterrows():\n",
    "        if data.src_ip in src_ip_list:\n",
    "            i=src_ip_list.index(data.src_ip)\n",
    "            fwd_packets[]"
   ]
  },
  {
   "cell_type": "code",
   "execution_count": 9,
   "metadata": {},
   "outputs": [
    {
     "name": "stdout",
     "output_type": "stream",
     "text": [
      "Processing...1/36\n",
      "0    192.168.10.14:49877->23.203.78.65:80\n",
      "1    23.203.78.65:80->192.168.10.14:49877\n",
      "Name: flow_id, dtype: object\n",
      "Processing...2/36\n",
      "2    192.168.10.25:49276->192.168.10.3:389\n",
      "3    192.168.10.3:389->192.168.10.25:49276\n",
      "Name: flow_id, dtype: object\n",
      "Processing...3/36\n",
      "8        192.168.10.14:49877->23.203.78.65:80\n",
      "17       23.203.78.65:80->192.168.10.14:49877\n",
      "10      192.168.10.25:49276->192.168.10.3:389\n",
      "11      192.168.10.3:389->192.168.10.25:49276\n",
      "9     192.168.10.16:49498->216.58.219.228:443\n",
      "15    216.58.219.228:443->192.168.10.16:49498\n",
      "12     192.168.10.5:51743->52.204.153.150:443\n",
      "18     52.204.153.150:443->192.168.10.5:51743\n",
      "6      192.168.10.12:44746->172.217.9.226:443\n",
      "5      172.217.9.226:443->192.168.10.12:44746\n",
      "13      192.168.10.5:51929->52.44.158.240:443\n",
      "19      52.44.158.240:443->192.168.10.5:51929\n",
      "7      192.168.10.12:52610->23.111.11.111:443\n",
      "16     23.111.11.111:443->192.168.10.12:52610\n",
      "14    192.168.10.8:51460->125.212.216.123:443\n",
      "4     125.212.216.123:443->192.168.10.8:51460\n",
      "Name: flow_id, dtype: object\n",
      "Processing...4/36\n",
      "22    192.168.10.16:49498->216.58.219.228:443\n",
      "23     192.168.10.5:51743->52.204.153.150:443\n",
      "20     192.168.10.12:44746->172.217.9.226:443\n",
      "21     192.168.10.12:52610->23.111.11.111:443\n",
      "24    192.168.10.8:51460->125.212.216.123:443\n",
      "Name: flow_id, dtype: object\n",
      "Processing...5/36\n",
      "32    216.58.219.228:443->192.168.10.16:49498\n",
      "29    192.168.10.16:49498->216.58.219.228:443\n",
      "34     52.204.153.150:443->192.168.10.5:51743\n",
      "30     192.168.10.5:51743->52.204.153.150:443\n",
      "26     172.217.9.226:443->192.168.10.12:44746\n",
      "27     192.168.10.12:44746->172.217.9.226:443\n",
      "35      52.44.158.240:443->192.168.10.5:51929\n",
      "33     23.111.11.111:443->192.168.10.12:52610\n",
      "28     192.168.10.12:52610->23.111.11.111:443\n",
      "25    125.212.216.123:443->192.168.10.8:51460\n",
      "31    192.168.10.8:51460->125.212.216.123:443\n",
      "Name: flow_id, dtype: object\n",
      "5\n"
     ]
    },
    {
     "data": {
      "text/html": [
       "<div>\n",
       "<style scoped>\n",
       "    .dataframe tbody tr th:only-of-type {\n",
       "        vertical-align: middle;\n",
       "    }\n",
       "\n",
       "    .dataframe tbody tr th {\n",
       "        vertical-align: top;\n",
       "    }\n",
       "\n",
       "    .dataframe thead th {\n",
       "        text-align: right;\n",
       "    }\n",
       "</style>\n",
       "<table border=\"1\" class=\"dataframe\">\n",
       "  <thead>\n",
       "    <tr style=\"text-align: right;\">\n",
       "      <th></th>\n",
       "      <th>tcp_stream</th>\n",
       "      <th>protocol</th>\n",
       "      <th>fwd_packets</th>\n",
       "      <th>fwd_bytes</th>\n",
       "      <th>bwd_bytes</th>\n",
       "      <th>bwd_packets</th>\n",
       "      <th>total_bytes</th>\n",
       "      <th>total_packets</th>\n",
       "      <th>fwd_duration</th>\n",
       "      <th>bwd_duration</th>\n",
       "    </tr>\n",
       "  </thead>\n",
       "  <tbody>\n",
       "    <tr>\n",
       "      <th>0</th>\n",
       "      <td>998</td>\n",
       "      <td>HTTP</td>\n",
       "      <td>0</td>\n",
       "      <td>0</td>\n",
       "      <td>0</td>\n",
       "      <td>0</td>\n",
       "      <td>0</td>\n",
       "      <td>0</td>\n",
       "      <td>0</td>\n",
       "      <td>0</td>\n",
       "    </tr>\n",
       "    <tr>\n",
       "      <th>1</th>\n",
       "      <td>998</td>\n",
       "      <td>LDAP</td>\n",
       "      <td>0</td>\n",
       "      <td>0</td>\n",
       "      <td>0</td>\n",
       "      <td>0</td>\n",
       "      <td>0</td>\n",
       "      <td>0</td>\n",
       "      <td>0</td>\n",
       "      <td>0</td>\n",
       "    </tr>\n",
       "    <tr>\n",
       "      <th>2</th>\n",
       "      <td>998</td>\n",
       "      <td>TCP</td>\n",
       "      <td>0</td>\n",
       "      <td>0</td>\n",
       "      <td>0</td>\n",
       "      <td>0</td>\n",
       "      <td>0</td>\n",
       "      <td>0</td>\n",
       "      <td>0</td>\n",
       "      <td>0</td>\n",
       "    </tr>\n",
       "    <tr>\n",
       "      <th>3</th>\n",
       "      <td>998</td>\n",
       "      <td>TLSv1</td>\n",
       "      <td>0</td>\n",
       "      <td>0</td>\n",
       "      <td>0</td>\n",
       "      <td>0</td>\n",
       "      <td>0</td>\n",
       "      <td>0</td>\n",
       "      <td>0</td>\n",
       "      <td>0</td>\n",
       "    </tr>\n",
       "    <tr>\n",
       "      <th>4</th>\n",
       "      <td>998</td>\n",
       "      <td>TLSv1.2</td>\n",
       "      <td>0</td>\n",
       "      <td>0</td>\n",
       "      <td>0</td>\n",
       "      <td>0</td>\n",
       "      <td>0</td>\n",
       "      <td>0</td>\n",
       "      <td>0</td>\n",
       "      <td>0</td>\n",
       "    </tr>\n",
       "  </tbody>\n",
       "</table>\n",
       "</div>"
      ],
      "text/plain": [
       "   tcp_stream protocol  fwd_packets  fwd_bytes  bwd_bytes  bwd_packets  \\\n",
       "0         998     HTTP            0          0          0            0   \n",
       "1         998     LDAP            0          0          0            0   \n",
       "2         998      TCP            0          0          0            0   \n",
       "3         998    TLSv1            0          0          0            0   \n",
       "4         998  TLSv1.2            0          0          0            0   \n",
       "\n",
       "   total_bytes  total_packets  fwd_duration  bwd_duration  \n",
       "0            0              0             0             0  \n",
       "1            0              0             0             0  \n",
       "2            0              0             0             0  \n",
       "3            0              0             0             0  \n",
       "4            0              0             0             0  "
      ]
     },
     "execution_count": 9,
     "metadata": {},
     "output_type": "execute_result"
    }
   ],
   "source": [
    "colFlows=list()\n",
    "i=0\n",
    "for index,data in df.groupby(['tcp_stream','protocol']):\n",
    "    i+=1\n",
    "    #print(\"A:\",a)\n",
    "    #print(\"B\",data[['protocol','flow_id']])\n",
    "    \n",
    "    print(\"Processing...{}/{}\".format(i,size))\n",
    "    \n",
    "    flow={}\n",
    "    flow['tcp_stream']=index[0]\n",
    "    flow['protocol']=index[1]\n",
    "    flow['fwd_packets']=0\n",
    "    flow['fwd_bytes']=0\n",
    "    flow['bwd_bytes']=0\n",
    "    flow['bwd_packets']=0\n",
    "    flow['total_bytes']=0\n",
    "    flow['total_packets']=0\n",
    "    flow['fwd_duration']=0\n",
    "    flow['bwd_duration']=0\n",
    "    print(data['flow_id'])\n",
    "    \n",
    "    for index_uni_flow,uni_flow in data.iterrows():\n",
    "        if uni_flow.src_ip in src_list:\n",
    "            total_fwd_packets[uni_flow.src_ip]=uni_flow.total_packets\n",
    "        else if uni_flow.src_ip in dst_list:\n",
    "            total_bwd_packets[uni_flow.src_ip]=uni_flow.total_packets\n",
    "        else:\n",
    "            src_list.append(uni_flow.src_ip)\n",
    "            dst_list.append(uni_flow.dst_ip)\n",
    "        \n",
    "        \n",
    "        if uni_flow.first_flag==\"SYN\":\n",
    "            flow['src_ip']=uni_flow['src_ip']\n",
    "            flow['src_port']=uni_flow['src_port']\n",
    "        if flow.get('src_ip',\"\")==\"\":\n",
    "            flow['src_ip']=uni_flow['src_ip']\n",
    "            flow['src_port']=uni_flow['src_port']    \n",
    "        if flow.get('dst_ip',\"\")==\"\":\n",
    "            flow['dst_ip']=uni_flow['dst_ip']\n",
    "            flow['dst_port']=uni_flow['dst_port']\n",
    "        if flow.get('src_ip',\"\")==flow.get('dst_ip',\"\")\n",
    "        \n",
    "        \n",
    "    \n",
    "    \"\"\"\n",
    "    for index_uni_flow,uni_flow in data.iterrows():\n",
    "        # first packet initates the flow\n",
    "        if uni_flow.first_flag==\"SYN\":\n",
    "            flow['src_ip']=uni_flow['src_ip']\n",
    "            flow['src_port']=uni_flow['src_port']\n",
    "        if flow.get('src_ip',\"\")==\"\":\n",
    "            flow['src_ip']=uni_flow['src_ip']\n",
    "            flow['src_port']=uni_flow['src_port']  \n",
    "        if flow.get('dst_ip',\"\")==\"\":\n",
    "            flow['dst_ip']=uni_flow['dst_ip']\n",
    "            flow['dst_port']=uni_flow['dst_port']\n",
    "        if flow['src_ip']==uni_flow['src_ip']:\n",
    "            flow['fwd_packets']=flow.get('fwd_packets',0)+uni_flow['total_packets']\n",
    "            flow['fwd_bytes']=flow.get('fwd_bytes',0)+uni_flow['total_bytes']\n",
    "            flow['fwd_duration']=flow.get('fwd_duration',0)+uni_flow['total_duration']\n",
    "            flow['fwd_flow_start']=uni_flow['flow_start']\n",
    "            flow['fwd_flow_finish']=uni_flow['flow_start']\n",
    "            \n",
    "        else: \n",
    "            flow['bwd_packets']=flow.get('bwd_packets',0)+uni_flow['total_packets']\n",
    "            flow['bwd_bytes']=flow.get('bwd_bytes',0)+uni_flow['total_bytes']\n",
    "            flow['bwd_duration']=flow.get('bwd_duration',0)+uni_flow['total_duration']\n",
    "            flow['bwd_flow_start']=uni_flow['flow_start']\n",
    "            flow['bwd_flow_finish']=uni_flow['flow_start']\n",
    "    \n",
    "    flow['total_bytes']=flow.get('bwd_bytes',0)+flow.get('fwd_bytes',0)\n",
    "    flow['total_packets']=flow.get('bwd_packets',0)+flow.get('fwd_packets',0)\n",
    "    flow['flow_id']=str(flow['src_ip'])+\":\"+str(flow['src_port'])+\"->\"+str(flow['dst_ip'])+\":\"+str(flow['dst_port'])\n",
    "    \"\"\"\n",
    "    colFlows.append(flow)\n",
    "\n",
    "    \n",
    "    \n",
    "df_flow = pd.DataFrame(colFlows) \n",
    "print(i)\n",
    "df_flow\n"
   ]
  },
  {
   "cell_type": "code",
   "execution_count": 12,
   "metadata": {},
   "outputs": [],
   "source": [
    "one={'id':'998','protocol':'TCP'}"
   ]
  },
  {
   "cell_type": "code",
   "execution_count": 16,
   "metadata": {},
   "outputs": [
    {
     "data": {
      "text/plain": [
       "{'id': '998',\n",
       " 'protocol': 'TCP',\n",
       " 'src': '192.168.1.20',\n",
       " 'dst': '172.25.1.5',\n",
       " 'fwd.packets': 3}"
      ]
     },
     "execution_count": 16,
     "metadata": {},
     "output_type": "execute_result"
    }
   ],
   "source": [
    "one['src']='192.168.1.20'\n",
    "one['dst']='172.25.1.5'\n",
    "one['fwd.packets']=3\n",
    "one"
   ]
  },
  {
   "cell_type": "code",
   "execution_count": 17,
   "metadata": {},
   "outputs": [
    {
     "data": {
      "text/plain": [
       "[{'id': '998',\n",
       "  'protocol': 'TCP',\n",
       "  'src': '192.168.1.20',\n",
       "  'dst': '172.25.1.5',\n",
       "  'fwd.packets': 3}]"
      ]
     },
     "execution_count": 17,
     "metadata": {},
     "output_type": "execute_result"
    }
   ],
   "source": [
    "f=list()\n",
    "f.append(one)\n",
    "f"
   ]
  },
  {
   "cell_type": "code",
   "execution_count": 27,
   "metadata": {},
   "outputs": [
    {
     "ename": "KeyError",
     "evalue": "'src'",
     "output_type": "error",
     "traceback": [
      "\u001b[0;31m---------------------------------------------------------------------------\u001b[0m",
      "\u001b[0;31mKeyError\u001b[0m                                  Traceback (most recent call last)",
      "\u001b[0;32m<ipython-input-27-f34e5c758e45>\u001b[0m in \u001b[0;36m<module>\u001b[0;34m\u001b[0m\n\u001b[1;32m      1\u001b[0m \u001b[0mflow\u001b[0m\u001b[0;34m=\u001b[0m\u001b[0;34m{\u001b[0m\u001b[0;34m}\u001b[0m\u001b[0;34m\u001b[0m\u001b[0;34m\u001b[0m\u001b[0m\n\u001b[1;32m      2\u001b[0m \u001b[0;32mif\u001b[0m \u001b[0mone\u001b[0m \u001b[0;32min\u001b[0m \u001b[0mf\u001b[0m\u001b[0;34m:\u001b[0m\u001b[0;34m\u001b[0m\u001b[0;34m\u001b[0m\u001b[0m\n\u001b[0;32m----> 3\u001b[0;31m     \u001b[0;32mif\u001b[0m \u001b[0mflow\u001b[0m\u001b[0;34m[\u001b[0m\u001b[0;34m'src'\u001b[0m\u001b[0;34m]\u001b[0m\u001b[0;34m==\u001b[0m\u001b[0;34m'192.168.1.20'\u001b[0m\u001b[0;34m:\u001b[0m\u001b[0;34m\u001b[0m\u001b[0;34m\u001b[0m\u001b[0m\n\u001b[0m\u001b[1;32m      4\u001b[0m         \u001b[0mflow\u001b[0m\u001b[0;34m[\u001b[0m\u001b[0;34m'fwd.packets'\u001b[0m\u001b[0;34m]\u001b[0m\u001b[0;34m=\u001b[0m\u001b[0mflow\u001b[0m\u001b[0;34m.\u001b[0m\u001b[0mget\u001b[0m\u001b[0;34m(\u001b[0m\u001b[0;34m'fwd.packets'\u001b[0m\u001b[0;34m,\u001b[0m\u001b[0;36m0\u001b[0m\u001b[0;34m)\u001b[0m\u001b[0;34m+\u001b[0m\u001b[0;36m1\u001b[0m\u001b[0;34m\u001b[0m\u001b[0;34m\u001b[0m\u001b[0m\n\u001b[1;32m      5\u001b[0m     \u001b[0;32melif\u001b[0m \u001b[0mflow\u001b[0m\u001b[0;34m[\u001b[0m\u001b[0;34m'dst'\u001b[0m\u001b[0;34m]\u001b[0m\u001b[0;34m==\u001b[0m\u001b[0;34m'192.168.1.20'\u001b[0m\u001b[0;34m:\u001b[0m\u001b[0;34m\u001b[0m\u001b[0;34m\u001b[0m\u001b[0m\n",
      "\u001b[0;31mKeyError\u001b[0m: 'src'"
     ]
    }
   ],
   "source": [
    "flow={}\n",
    "if one in f:\n",
    "    if flow['src']=='192.168.1.20':\n",
    "        flow['fwd.packets']=flow.get('fwd.packets',0)+1\n",
    "    elif flow['dst']=='192.168.1.20':\n",
    "        flow['dst.packets']=flow.get('bwd.packets',0)+1\n",
    "f"
   ]
  },
  {
   "cell_type": "code",
   "execution_count": 23,
   "metadata": {},
   "outputs": [
    {
     "ename": "TypeError",
     "evalue": "cannot unpack non-iterable int object",
     "output_type": "error",
     "traceback": [
      "\u001b[0;31m---------------------------------------------------------------------------\u001b[0m",
      "\u001b[0;31mTypeError\u001b[0m                                 Traceback (most recent call last)",
      "\u001b[0;32m<ipython-input-23-0dede35737da>\u001b[0m in \u001b[0;36m<module>\u001b[0;34m\u001b[0m\n\u001b[1;32m      1\u001b[0m \u001b[0mcolFlows\u001b[0m\u001b[0;34m=\u001b[0m\u001b[0mlist\u001b[0m\u001b[0;34m(\u001b[0m\u001b[0;34m)\u001b[0m\u001b[0;34m\u001b[0m\u001b[0;34m\u001b[0m\u001b[0m\n\u001b[1;32m      2\u001b[0m \u001b[0mi\u001b[0m\u001b[0;34m=\u001b[0m\u001b[0;36m1\u001b[0m\u001b[0;34m\u001b[0m\u001b[0;34m\u001b[0m\u001b[0m\n\u001b[0;32m----> 3\u001b[0;31m \u001b[0;32mfor\u001b[0m \u001b[0;34m(\u001b[0m\u001b[0mtcp_stream\u001b[0m\u001b[0;34m,\u001b[0m\u001b[0mprotocol\u001b[0m\u001b[0;34m)\u001b[0m\u001b[0;34m,\u001b[0m\u001b[0mdata\u001b[0m \u001b[0;32min\u001b[0m \u001b[0mdf\u001b[0m\u001b[0;34m.\u001b[0m\u001b[0mgroupby\u001b[0m\u001b[0;34m(\u001b[0m\u001b[0;34m[\u001b[0m\u001b[0;34m'tcp_stream'\u001b[0m\u001b[0;34m]\u001b[0m\u001b[0;34m)\u001b[0m\u001b[0;34m:\u001b[0m\u001b[0;34m\u001b[0m\u001b[0;34m\u001b[0m\u001b[0m\n\u001b[0m\u001b[1;32m      4\u001b[0m     \u001b[0mprint\u001b[0m\u001b[0;34m(\u001b[0m\u001b[0;34m\"Processing...{}/{}\"\u001b[0m\u001b[0;34m.\u001b[0m\u001b[0mformat\u001b[0m\u001b[0;34m(\u001b[0m\u001b[0mi\u001b[0m\u001b[0;34m,\u001b[0m\u001b[0msize\u001b[0m\u001b[0;34m)\u001b[0m\u001b[0;34m)\u001b[0m\u001b[0;34m\u001b[0m\u001b[0;34m\u001b[0m\u001b[0m\n\u001b[1;32m      5\u001b[0m     \u001b[0mi\u001b[0m\u001b[0;34m+=\u001b[0m\u001b[0;36m1\u001b[0m\u001b[0;34m\u001b[0m\u001b[0;34m\u001b[0m\u001b[0m\n",
      "\u001b[0;31mTypeError\u001b[0m: cannot unpack non-iterable int object"
     ]
    }
   ],
   "source": [
    "colFlows=list()\n",
    "i=1\n",
    "for (tcp_stream,protocol),data in df.groupby(['tcp_stream']):\n",
    "    print(\"Processing...{}/{}\".format(i,size))\n",
    "    i+=1\n",
    "    flow={}\n",
    "    flow['fwd_packets']=0\n",
    "    flow['fwd_bytes']=0\n",
    "    flow['bwd_bytes']=0\n",
    "    flow['bwd_packets']=0\n",
    "    flow['total_bytes']=0\n",
    "    flow['total_packets']=0\n",
    "    flow['fwd_duration']=0\n",
    "    flow['bwd_duration']=0\n",
    "    for index_uni_flow,uni_flow in data.iterrows():\n",
    "        # first packet initates the flow\n",
    "        if uni_flow.first_flag==\"SYN\":\n",
    "            flow['src_ip']=uni_flow['src_ip']\n",
    "            flow['src_port']=uni_flow['src_port']\n",
    "        if flow.get('src_ip',\"\")==\"\":\n",
    "            flow['src_ip']=uni_flow['src_ip']\n",
    "            flow['src_port']=uni_flow['src_port']  \n",
    "        if flow.get('dst_ip',\"\")==\"\":\n",
    "            flow['dst_ip']=uni_flow['dst_ip']\n",
    "            flow['dst_port']=uni_flow['dst_port']\n",
    "        if flow['src_ip']==uni_flow['src_ip']:\n",
    "            flow['fwd_packets']=flow.get('fwd_packets',0)+uni_flow['total_packets']\n",
    "            flow['fwd_bytes']=flow.get('fwd_bytes',0)+uni_flow['total_bytes']\n",
    "            flow['fwd_duration']=flow.get('fwd_duration',0)+uni_flow['total_duration']\n",
    "            flow['fwd_flow_start']=uni_flow['flow_start']\n",
    "            flow['fwd_flow_finish']=uni_flow['flow_start']\n",
    "            \n",
    "        else: \n",
    "            flow['bwd_packets']=flow.get('bwd_packets',0)+uni_flow['total_packets']\n",
    "            flow['bwd_bytes']=flow.get('bwd_bytes',0)+uni_flow['total_bytes']\n",
    "            flow['bwd_duration']=flow.get('bwd_duration',0)+uni_flow['total_duration']\n",
    "            flow['bwd_flow_start']=uni_flow['flow_start']\n",
    "            flow['bwd_flow_finish']=uni_flow['flow_start']\n",
    "   \n",
    "    flow['total_bytes']=flow.get('bwd_bytes',0)+flow.get('fwd_bytes',0)\n",
    "    flow['total_packets']=flow.get('bwd_packets',0)+flow.get('fwd_packets',0)\n",
    "    flow['protocol']=protocol\n",
    "    flow['tcp_stream']=tcp_stream\n",
    "    flow['flow_id']=str(flow['src_ip'])+\":\"+str(flow['src_port'])+\"->\"+str(flow['dst_ip'])+\":\"+str(flow['dst_port'])\n",
    "    \n",
    "    colFlows.append(flow)\n",
    "\n",
    "    \n",
    "    \n",
    "df_flow = pd.DataFrame(colFlows) \n",
    "df_flow"
   ]
  },
  {
   "cell_type": "code",
   "execution_count": null,
   "metadata": {},
   "outputs": [],
   "source": [
    "len(df_flow.src_ip.unique())"
   ]
  },
  {
   "cell_type": "code",
   "execution_count": null,
   "metadata": {},
   "outputs": [],
   "source": [
    "df[['tcp_stream', 'flow_id', 'flow_start', 'flow_finish', 'src_ip',\n",
    "       'src_port', 'dst_ip', 'dst_port', 'protocol', 'total_duration',\n",
    "       'start_time', 'finish_time', 'total_packets', 'total_bytes']]"
   ]
  },
  {
   "cell_type": "code",
   "execution_count": null,
   "metadata": {},
   "outputs": [],
   "source": [
    "(pd.to_datetime(df.flow_finish) - pd.to_datetime(df.flow_start)).dt.total_seconds()"
   ]
  },
  {
   "cell_type": "code",
   "execution_count": null,
   "metadata": {},
   "outputs": [],
   "source": [
    "df_tmp=pd.DataFrame(columns=['flow_start','flow_finish'])\n",
    "df_tmp['flow_start']=pd.to_datetime(df.flow_start)\n",
    "df_tmp['flow_finish']=pd.to_datetime(df.flow_finish)\n",
    "df_tmp['min']=df_tmp[['flow_start','flow_finish']].min(axis=1)"
   ]
  },
  {
   "cell_type": "code",
   "execution_count": null,
   "metadata": {},
   "outputs": [],
   "source": [
    "df_tmp"
   ]
  },
  {
   "cell_type": "code",
   "execution_count": null,
   "metadata": {},
   "outputs": [],
   "source": []
  },
  {
   "cell_type": "code",
   "execution_count": 13,
   "metadata": {},
   "outputs": [],
   "source": [
    "flow={'id':'889','protocol':'TCP',{'src_ip':'iptest','total_packets':0}}}"
   ]
  },
  {
   "cell_type": "code",
   "execution_count": 16,
   "metadata": {},
   "outputs": [
    {
     "ename": "KeyError",
     "evalue": "'None of [None] are in the columns'",
     "output_type": "error",
     "traceback": [
      "\u001b[0;31m---------------------------------------------------------------------------\u001b[0m",
      "\u001b[0;31mKeyError\u001b[0m                                  Traceback (most recent call last)",
      "\u001b[0;32m<ipython-input-16-9227bdb26383>\u001b[0m in \u001b[0;36m<module>\u001b[0;34m\u001b[0m\n\u001b[0;32m----> 1\u001b[0;31m \u001b[0mpd\u001b[0m\u001b[0;34m.\u001b[0m\u001b[0mDataFrame\u001b[0m\u001b[0;34m(\u001b[0m\u001b[0mflow\u001b[0m\u001b[0;34m)\u001b[0m\u001b[0;34m.\u001b[0m\u001b[0mpivot\u001b[0m\u001b[0;34m(\u001b[0m\u001b[0;34m)\u001b[0m\u001b[0;34m\u001b[0m\u001b[0;34m\u001b[0m\u001b[0m\n\u001b[0m",
      "\u001b[0;32m/opt/conda/lib/python3.7/site-packages/pandas/core/frame.py\u001b[0m in \u001b[0;36mpivot\u001b[0;34m(self, index, columns, values)\u001b[0m\n\u001b[1;32m   5910\u001b[0m         \u001b[0;32mfrom\u001b[0m \u001b[0mpandas\u001b[0m\u001b[0;34m.\u001b[0m\u001b[0mcore\u001b[0m\u001b[0;34m.\u001b[0m\u001b[0mreshape\u001b[0m\u001b[0;34m.\u001b[0m\u001b[0mpivot\u001b[0m \u001b[0;32mimport\u001b[0m \u001b[0mpivot\u001b[0m\u001b[0;34m\u001b[0m\u001b[0;34m\u001b[0m\u001b[0m\n\u001b[1;32m   5911\u001b[0m \u001b[0;34m\u001b[0m\u001b[0m\n\u001b[0;32m-> 5912\u001b[0;31m         \u001b[0;32mreturn\u001b[0m \u001b[0mpivot\u001b[0m\u001b[0;34m(\u001b[0m\u001b[0mself\u001b[0m\u001b[0;34m,\u001b[0m \u001b[0mindex\u001b[0m\u001b[0;34m=\u001b[0m\u001b[0mindex\u001b[0m\u001b[0;34m,\u001b[0m \u001b[0mcolumns\u001b[0m\u001b[0;34m=\u001b[0m\u001b[0mcolumns\u001b[0m\u001b[0;34m,\u001b[0m \u001b[0mvalues\u001b[0m\u001b[0;34m=\u001b[0m\u001b[0mvalues\u001b[0m\u001b[0;34m)\u001b[0m\u001b[0;34m\u001b[0m\u001b[0;34m\u001b[0m\u001b[0m\n\u001b[0m\u001b[1;32m   5913\u001b[0m \u001b[0;34m\u001b[0m\u001b[0m\n\u001b[1;32m   5914\u001b[0m     _shared_docs[\n",
      "\u001b[0;32m/opt/conda/lib/python3.7/site-packages/pandas/core/reshape/pivot.py\u001b[0m in \u001b[0;36mpivot\u001b[0;34m(data, index, columns, values)\u001b[0m\n\u001b[1;32m    413\u001b[0m         \u001b[0mcols\u001b[0m \u001b[0;34m=\u001b[0m \u001b[0;34m[\u001b[0m\u001b[0mcolumns\u001b[0m\u001b[0;34m]\u001b[0m \u001b[0;32mif\u001b[0m \u001b[0mindex\u001b[0m \u001b[0;32mis\u001b[0m \u001b[0;32mNone\u001b[0m \u001b[0;32melse\u001b[0m \u001b[0;34m[\u001b[0m\u001b[0mindex\u001b[0m\u001b[0;34m,\u001b[0m \u001b[0mcolumns\u001b[0m\u001b[0;34m]\u001b[0m\u001b[0;34m\u001b[0m\u001b[0;34m\u001b[0m\u001b[0m\n\u001b[1;32m    414\u001b[0m         \u001b[0mappend\u001b[0m \u001b[0;34m=\u001b[0m \u001b[0mindex\u001b[0m \u001b[0;32mis\u001b[0m \u001b[0;32mNone\u001b[0m\u001b[0;34m\u001b[0m\u001b[0;34m\u001b[0m\u001b[0m\n\u001b[0;32m--> 415\u001b[0;31m         \u001b[0mindexed\u001b[0m \u001b[0;34m=\u001b[0m \u001b[0mdata\u001b[0m\u001b[0;34m.\u001b[0m\u001b[0mset_index\u001b[0m\u001b[0;34m(\u001b[0m\u001b[0mcols\u001b[0m\u001b[0;34m,\u001b[0m \u001b[0mappend\u001b[0m\u001b[0;34m=\u001b[0m\u001b[0mappend\u001b[0m\u001b[0;34m)\u001b[0m\u001b[0;34m\u001b[0m\u001b[0;34m\u001b[0m\u001b[0m\n\u001b[0m\u001b[1;32m    416\u001b[0m     \u001b[0;32melse\u001b[0m\u001b[0;34m:\u001b[0m\u001b[0;34m\u001b[0m\u001b[0;34m\u001b[0m\u001b[0m\n\u001b[1;32m    417\u001b[0m         \u001b[0;32mif\u001b[0m \u001b[0mindex\u001b[0m \u001b[0;32mis\u001b[0m \u001b[0;32mNone\u001b[0m\u001b[0;34m:\u001b[0m\u001b[0;34m\u001b[0m\u001b[0;34m\u001b[0m\u001b[0m\n",
      "\u001b[0;32m/opt/conda/lib/python3.7/site-packages/pandas/core/frame.py\u001b[0m in \u001b[0;36mset_index\u001b[0;34m(self, keys, drop, append, inplace, verify_integrity)\u001b[0m\n\u001b[1;32m   4389\u001b[0m \u001b[0;34m\u001b[0m\u001b[0m\n\u001b[1;32m   4390\u001b[0m         \u001b[0;32mif\u001b[0m \u001b[0mmissing\u001b[0m\u001b[0;34m:\u001b[0m\u001b[0;34m\u001b[0m\u001b[0;34m\u001b[0m\u001b[0m\n\u001b[0;32m-> 4391\u001b[0;31m             \u001b[0;32mraise\u001b[0m \u001b[0mKeyError\u001b[0m\u001b[0;34m(\u001b[0m\u001b[0;34m\"None of {} are in the columns\"\u001b[0m\u001b[0;34m.\u001b[0m\u001b[0mformat\u001b[0m\u001b[0;34m(\u001b[0m\u001b[0mmissing\u001b[0m\u001b[0;34m)\u001b[0m\u001b[0;34m)\u001b[0m\u001b[0;34m\u001b[0m\u001b[0;34m\u001b[0m\u001b[0m\n\u001b[0m\u001b[1;32m   4392\u001b[0m \u001b[0;34m\u001b[0m\u001b[0m\n\u001b[1;32m   4393\u001b[0m         \u001b[0;32mif\u001b[0m \u001b[0minplace\u001b[0m\u001b[0;34m:\u001b[0m\u001b[0;34m\u001b[0m\u001b[0;34m\u001b[0m\u001b[0m\n",
      "\u001b[0;31mKeyError\u001b[0m: 'None of [None] are in the columns'"
     ]
    }
   ],
   "source": []
  },
  {
   "cell_type": "code",
   "execution_count": null,
   "metadata": {},
   "outputs": [],
   "source": [
    "for index,uni_flow in df.iterrows():\n",
    "    flow[uni_flow]"
   ]
  }
 ],
 "metadata": {
  "kernelspec": {
   "display_name": "Python 3",
   "language": "python",
   "name": "python3"
  },
  "language_info": {
   "codemirror_mode": {
    "name": "ipython",
    "version": 3
   },
   "file_extension": ".py",
   "mimetype": "text/x-python",
   "name": "python",
   "nbconvert_exporter": "python",
   "pygments_lexer": "ipython3",
   "version": "3.7.3"
  }
 },
 "nbformat": 4,
 "nbformat_minor": 4
}

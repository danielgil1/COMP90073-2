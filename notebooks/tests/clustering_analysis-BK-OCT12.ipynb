{
 "cells": [
  {
   "cell_type": "code",
   "execution_count": 1,
   "metadata": {},
   "outputs": [],
   "source": [
    "import sys\n",
    "sys.path.append(\"../src\")\n",
    "import preprocessing\n",
    "import cconfig\n",
    "import clustering\n",
    "\n",
    "# Plotting defaults\n",
    "%matplotlib inline\n",
    "import matplotlib.pyplot as plt"
   ]
  },
  {
   "cell_type": "markdown",
   "metadata": {},
   "source": [
    "# Load data and preprocess"
   ]
  },
  {
   "cell_type": "code",
   "execution_count": 10,
   "metadata": {},
   "outputs": [],
   "source": [
    "# select type of features and default values\n",
    "selected_features=cconfig.SELECTED_FEATURES_PACKET\n",
    "dataset_type=cconfig.DATASET_TYPE_PACKET\n",
    "max_num_clusters=cconfig.DEFAULT_NUM_CLUSTERS"
   ]
  },
  {
   "cell_type": "markdown",
   "metadata": {},
   "source": [
    "# Unidirectional flow"
   ]
  },
  {
   "cell_type": "code",
   "execution_count": null,
   "metadata": {},
   "outputs": [],
   "source": [
    "# load original data in dataframes, sample, select some features and scale\n",
    "df,df_Normal,df_Attack=preprocessing.data_load(0.01,None,False,dataset_type)\n",
    "print(df.columns)\n",
    "X=preprocessing.data_scale(df[selected_features])\n",
    "X_Normal=preprocessing.data_scale(df_Normal[selected_features])\n",
    "X_Attack=preprocessing.data_scale(df_Attack[selected_features])"
   ]
  },
  {
   "cell_type": "markdown",
   "metadata": {},
   "source": [
    "# Bidirectional flow"
   ]
  },
  {
   "cell_type": "code",
   "execution_count": 33,
   "metadata": {},
   "outputs": [],
   "source": [
    "import pickle\n",
    "import pandas as pd\n",
    "\n",
    "df_Normal=pickle.load( open( \"../src/df_flows_normal.pickle\", \"rb\" ) ) \n",
    "df_Attack=pickle.load( open( \"../src/df_flows_attack.pickle\", \"rb\" ) )\n",
    "df_Normal=df_Normal.fillna(0)\n",
    "df_Attack=df_Attack.fillna(0)\n",
    "df=pd.concat([df_Normal,df_Attack])"
   ]
  },
  {
   "cell_type": "code",
   "execution_count": 44,
   "metadata": {},
   "outputs": [
    {
     "data": {
      "text/plain": [
       "Index(['src_ip', 'dst_ip', 'src_port', 'dst_port', 'fwd_packets',\n",
       "       'bwd_packets', 'fwd_bytes', 'bwd_bytes', 'fwd_duration', 'flow_start',\n",
       "       'fwd_bps', 'fwd_pps', 'fwd_bpp', 'fwd_total_http_errors',\n",
       "       'fwd_total_failures', 'tcp_stream', 'protocol', 'fwd_flag_syn',\n",
       "       'fwd_flag_ack', 'fwd_flag_fin', 'fwd_flag_psh', 'fwd_flag_rst',\n",
       "       'first_flag', 'fwd_avg_bytes', 'fwd_stdev_bytes', 'fwd_min_bytes',\n",
       "       'fwd_max_bytes', 'bwd_duration', 'flow_finish', 'bwd_bps', 'bwd_pps',\n",
       "       'bwd_bpp', 'fwd_http_errors', 'fwd_failures', 'bwd_flag_syn',\n",
       "       'bwd_flag_ack', 'bwd_flag_fin', 'bwd_flag_psh', 'bwd_flag_rst',\n",
       "       'last_flag', 'bwd_avg_bytes', 'bwd_stdev_bytes', 'bwd_min_bytes',\n",
       "       'bwd_max_bytes', 'flow_duration', 'count_dest', 'count_src',\n",
       "       'count_serv_src', 'count_serv_dst', 'count_dest_conn', 'count_src_conn',\n",
       "       'count_serv_src_conn', 'count_count_serv_src_conn'],\n",
       "      dtype='object')"
      ]
     },
     "execution_count": 44,
     "metadata": {},
     "output_type": "execute_result"
    }
   ],
   "source": [
    "df_Normal.columns"
   ]
  },
  {
   "cell_type": "code",
   "execution_count": 58,
   "metadata": {},
   "outputs": [],
   "source": [
    "# all numeric\n",
    "selected_features=['fwd_packets',\n",
    "       'bwd_packets', 'fwd_bytes', 'bwd_bytes', 'fwd_duration', \n",
    "       'fwd_bps', 'fwd_pps', 'fwd_bpp', 'fwd_total_http_errors',\n",
    "       'fwd_total_failures', 'fwd_flag_syn',\n",
    "       'fwd_flag_ack', 'fwd_flag_fin', 'fwd_flag_psh', 'fwd_flag_rst',\n",
    "       'fwd_avg_bytes', 'fwd_stdev_bytes', 'fwd_min_bytes',\n",
    "       'fwd_max_bytes', 'bwd_duration','bwd_bps', 'bwd_pps',\n",
    "       'bwd_bpp', 'fwd_http_errors', 'fwd_failures', 'bwd_flag_syn',\n",
    "       'bwd_flag_ack', 'bwd_flag_fin', 'bwd_flag_psh', 'bwd_flag_rst',\n",
    "        'bwd_avg_bytes', 'bwd_stdev_bytes', 'bwd_min_bytes',\n",
    "       'bwd_max_bytes', 'flow_duration', 'count_dest', 'count_src',\n",
    "       'count_serv_src', 'count_serv_dst', 'count_dest_conn', 'count_src_conn',\n",
    "       'count_serv_src_conn', 'count_count_serv_src_conn']"
   ]
  },
  {
   "cell_type": "code",
   "execution_count": 48,
   "metadata": {},
   "outputs": [],
   "source": [
    "# no http errors\n",
    "selected_features=['bwd_packets', 'fwd_bytes', 'bwd_bytes', 'fwd_duration', \n",
    "       'fwd_bps', 'fwd_pps', 'fwd_bpp', 'fwd_flag_syn',\n",
    "       'fwd_flag_ack', 'fwd_flag_fin', 'fwd_flag_psh', 'fwd_flag_rst',\n",
    "       'fwd_avg_bytes', 'fwd_stdev_bytes', 'fwd_min_bytes',\n",
    "       'fwd_max_bytes', 'bwd_duration', 'bwd_bps', 'bwd_pps',\n",
    "       'bwd_bpp', 'bwd_flag_syn',\n",
    "       'bwd_flag_ack', 'bwd_flag_fin', 'bwd_flag_psh', 'bwd_flag_rst',\n",
    "        'bwd_avg_bytes', 'bwd_stdev_bytes', 'bwd_min_bytes',\n",
    "       'bwd_max_bytes', 'flow_duration', 'count_dest', 'count_src',\n",
    "       'count_serv_src', 'count_serv_dst', 'count_dest_conn', 'count_src_conn',\n",
    "       'count_serv_src_conn', 'count_count_serv_src_conn']"
   ]
  },
  {
   "cell_type": "code",
   "execution_count": 51,
   "metadata": {},
   "outputs": [],
   "source": [
    "# no http errors and no flags\n",
    "selected_features=['bwd_packets', 'fwd_bytes', 'bwd_bytes', 'fwd_duration', \n",
    "       'fwd_bps', 'fwd_pps', 'fwd_bpp', \n",
    "       'fwd_avg_bytes', 'fwd_stdev_bytes', 'fwd_min_bytes',\n",
    "       'fwd_max_bytes', 'bwd_duration', 'bwd_bps', 'bwd_pps',\n",
    "       'bwd_bpp',\n",
    "        'bwd_avg_bytes', 'bwd_stdev_bytes', 'bwd_min_bytes',\n",
    "       'bwd_max_bytes', 'flow_duration', 'count_dest', 'count_src',\n",
    "       'count_serv_src', 'count_serv_dst', 'count_dest_conn', 'count_src_conn',\n",
    "       'count_serv_src_conn', 'count_count_serv_src_conn']"
   ]
  },
  {
   "cell_type": "code",
   "execution_count": 54,
   "metadata": {},
   "outputs": [],
   "source": [
    "selected_features=['bwd_packets', 'fwd_bytes', 'bwd_bytes', 'fwd_duration', \n",
    "       'fwd_bps', 'fwd_pps', 'fwd_bpp', \n",
    "       'fwd_avg_bytes', 'fwd_stdev_bytes', 'fwd_min_bytes',\n",
    "       'fwd_max_bytes', 'bwd_duration', 'bwd_bps', 'bwd_pps',\n",
    "       'bwd_bpp',\n",
    "        'bwd_avg_bytes', 'bwd_stdev_bytes', 'bwd_min_bytes',\n",
    "       'bwd_max_bytes', 'flow_duration']"
   ]
  },
  {
   "cell_type": "code",
   "execution_count": 59,
   "metadata": {},
   "outputs": [],
   "source": [
    "X=preprocessing.data_scale(df[selected_features])\n",
    "X_Normal=preprocessing.data_scale(df_Normal[selected_features])\n",
    "X_Attack=preprocessing.data_scale(df_Attack[selected_features])"
   ]
  },
  {
   "cell_type": "markdown",
   "metadata": {},
   "source": [
    "# KMEANS"
   ]
  },
  {
   "cell_type": "code",
   "execution_count": null,
   "metadata": {},
   "outputs": [],
   "source": [
    "# find the best number of clusters\n",
    "df_silhouette = clustering.kmeans_get_number_clusters(X_Normal)\n",
    "\n",
    "# select best number of clusters for kmeans\n",
    "max_num_clusters=df_silhouette.iloc[df_silhouette.score.idxmax() ]['Num Clusters']\n",
    "\n",
    "# plot the result for reference\n",
    "df_silhouette.plot(x='Num Clusters', y='score')"
   ]
  },
  {
   "cell_type": "code",
   "execution_count": 60,
   "metadata": {},
   "outputs": [
    {
     "name": "stdout",
     "output_type": "stream",
     "text": [
      "Variability explained by the PC: 0.29072658834907605\n",
      "\n",
      "Exporting PACKET_KMEANS...\n",
      "Number of clusters: 3\n",
      "\n",
      "Cluster 0: 131350 data points\n",
      "\n",
      "Cluster 1: 22779 data points\n",
      "\n",
      "Cluster 2: 285994 data points\n",
      "\n",
      "DONE.\n",
      "-------------------------------------------------------\n"
     ]
    },
    {
     "data": {
      "image/png": "[encoded data removed]",
      "text/plain": [
       "<Figure size 432x288 with 1 Axes>"
      ]
     },
     "metadata": {
      "needs_background": "light"
     },
     "output_type": "display_data"
    }
   ],
   "source": [
    "# fit kmeans model with normal day data\n",
    "kmeans=clustering.kmeans_train(X_Normal,int(max_num_clusters))\n",
    "\n",
    "# predictions with attack dataset\n",
    "labels=clustering.kmeans_predict(X_Attack,kmeans)\n",
    "\n",
    "# dimensionality reduction\n",
    "XR=preprocessing.get_pc(X_Attack,2)\n",
    "\n",
    "# print results\n",
    "clustering.clustering_print_results(df_Attack,labels,selected_features,XR,True,True,dataset_type+'_kmeans')"
   ]
  },
  {
   "cell_type": "code",
   "execution_count": null,
   "metadata": {},
   "outputs": [],
   "source": [
    "# print anomalies\n",
    "index_anomalies=clustering.kmeans_anomalies(X_Attack,kmeans)\n",
    "df_anomalies=df_Attack.iloc[index_anomalies,:]\n",
    "df_anomalies"
   ]
  },
  {
   "cell_type": "markdown",
   "metadata": {},
   "source": [
    "# DBSCAN"
   ]
  },
  {
   "cell_type": "code",
   "execution_count": null,
   "metadata": {},
   "outputs": [],
   "source": [
    "# define hyper parameters for dbscan\n",
    "eps=0.5\n",
    "min_samples=26\n",
    "\n",
    "# fit and predict\n",
    "dblabels=clustering.dbscan_fit_predict(eps,min_samples,X)\n",
    "\n",
    "# do dimensionality reduction to plot\n",
    "XR=preprocessing.get_pc(X,2)\n",
    "\n",
    "# print and plot\n",
    "clustering.clustering_print_results(df,dblabels,selected_features,XR,True,True,dataset_type+'_dbscan')"
   ]
  },
  {
   "cell_type": "markdown",
   "metadata": {},
   "source": [
    "# OPTIC"
   ]
  },
  {
   "cell_type": "code",
   "execution_count": null,
   "metadata": {},
   "outputs": [],
   "source": [
    "1"
   ]
  },
  {
   "cell_type": "code",
   "execution_count": null,
   "metadata": {},
   "outputs": [],
   "source": [
    "# define hyper params for optics\n",
    "eps=1.5\n",
    "min_samples=20\n",
    "\n",
    "# predict using optics\n",
    "labels=clustering.optics_fit_predict(X,min_samples,'dbscan', eps)\n",
    "\n",
    "# do dimensionality reduction to plot\n",
    "XR=preprocessing.get_pc(X,2)\n",
    "\n",
    "# print and plot\n",
    "clustering.clustering_print_results(df,labels,selected_features,XR,True,True,dataset_type+'_optic')"
   ]
  },
  {
   "cell_type": "code",
   "execution_count": null,
   "metadata": {},
   "outputs": [],
   "source": [
    "df_anomalies=clustering.optics_anomalies(df,labels)\n",
    "df_anomalies.sort_values(by=['total_bytes','total_packets','total_duration'],ascending=False)"
   ]
  },
  {
   "cell_type": "markdown",
   "metadata": {},
   "source": [
    "# IFOREST"
   ]
  },
  {
   "cell_type": "code",
   "execution_count": null,
   "metadata": {},
   "outputs": [],
   "source": [
    "# model iforest\n",
    "iforest=clustering.iforest_train(X_Normal)\n",
    "labels=clustering.iforest_predict(X_Attack,iforest)\n",
    "\n",
    "# dimensionality reduction\n",
    "XR=preprocessing.get_pc(X_Attack,2)\n",
    "\n",
    "# print results\n",
    "clustering.clustering_print_results(df_Attack,labels,selected_features,XR,True,True,dataset_type+'_iforest')"
   ]
  },
  {
   "cell_type": "code",
   "execution_count": null,
   "metadata": {},
   "outputs": [],
   "source": [
    "# get anomalies\n",
    "df_anomalies=clustering.iforest_anomalies(df_Attack,labels)\n",
    "df_anomalies.sort_values(by=['total_bytes','total_packets','total_duration'],ascending=False)"
   ]
  },
  {
   "cell_type": "markdown",
   "metadata": {},
   "source": [
    "# LOF"
   ]
  },
  {
   "cell_type": "code",
   "execution_count": null,
   "metadata": {},
   "outputs": [],
   "source": [
    "outliers_fraction=0.05\n",
    "n_neighbors=30\n",
    "labels=clustering.lof_fit_predict(X,outliers_fraction,n_neighbors)\n",
    "\n",
    "# dimensionality reduction\n",
    "XR=preprocessing.get_pc(X,2)\n",
    "\n",
    "# print results\n",
    "clustering.clustering_print_results(df,labels,cconfig.SELECTED_FEATURES_FLOW,XR,True,True,dataset_type+'_lof')"
   ]
  },
  {
   "cell_type": "code",
   "execution_count": null,
   "metadata": {},
   "outputs": [],
   "source": [
    "# get anomalies\n",
    "df_anomalies=clustering.lof_anomalies(df,labels)\n",
    "df_anomalies.sort_values(by=['total_bytes','total_packets','total_duration'],ascending=False)"
   ]
  },
  {
   "cell_type": "markdown",
   "metadata": {},
   "source": [
    "# OCSVM"
   ]
  },
  {
   "cell_type": "code",
   "execution_count": null,
   "metadata": {},
   "outputs": [],
   "source": [
    "# train and test the model\n",
    "outliers_fraction=0.05\n",
    "labels=clustering.ocsvm_fit_predict(X_Normal,X_Attack,outliers_fraction)\n",
    "\n",
    "# dimensionality reduction\n",
    "XR=preprocessing.get_pc(X_Attack,3)\n",
    "\n",
    "# print results\n",
    "clustering.clustering_print_results(df_Attack,labels,cconfig.SELECTED_FEATURES_FLOW,XR,True,True,dataset_type+'_ocsvm')"
   ]
  },
  {
   "cell_type": "code",
   "execution_count": null,
   "metadata": {},
   "outputs": [],
   "source": [
    "# get anomalies\n",
    "df_anomalies=clustering.ocsvm_anomalies(df_Attack,labels)\n",
    "df_anomalies.sort_values(by=['total_bytes','total_packets','total_duration'],ascending=False)"
   ]
  },
  {
   "cell_type": "code",
   "execution_count": null,
   "metadata": {},
   "outputs": [],
   "source": []
  }
 ],
 "metadata": {
  "kernelspec": {
   "display_name": "Python 3",
   "language": "python",
   "name": "python3"
  },
  "language_info": {
   "codemirror_mode": {
    "name": "ipython",
    "version": 3
   },
   "file_extension": ".py",
   "mimetype": "text/x-python",
   "name": "python",
   "nbconvert_exporter": "python",
   "pygments_lexer": "ipython3",
   "version": "3.7.3"
  }
 },
 "nbformat": 4,
 "nbformat_minor": 4
}

{
 "cells": [
  {
   "cell_type": "code",
   "execution_count": 13,
   "metadata": {},
   "outputs": [],
   "source": [
    "import sys\n",
    "sys.path.append(\"../src\")\n",
    "import preprocessing\n",
    "import cconfig\n",
    "import clustering\n",
    "\n",
    "# Plotting defaults\n",
    "%matplotlib inline\n",
    "import matplotlib.pyplot as plt"
   ]
  },
  {
   "cell_type": "markdown",
   "metadata": {},
   "source": [
    "# Load data and preprocess"
   ]
  },
  {
   "cell_type": "code",
   "execution_count": 14,
   "metadata": {},
   "outputs": [],
   "source": [
    "# select type of features and default values\n",
    "selected_features=cconfig.SELECTED_FEATURES_PACKET\n",
    "dataset_type=cconfig.DATASET_TYPE_PACKET\n",
    "max_num_clusters=cconfig.DEFAULT_NUM_CLUSTERS"
   ]
  },
  {
   "cell_type": "markdown",
   "metadata": {},
   "source": [
    "# Unidirectional flow"
   ]
  },
  {
   "cell_type": "code",
   "execution_count": null,
   "metadata": {},
   "outputs": [],
   "source": [
    "# load original data in dataframes, sample, select some features and scale\n",
    "df,df_Normal,df_Attack=preprocessing.data_load(0.01,None,False,dataset_type)\n",
    "print(df.columns)\n",
    "X=preprocessing.data_scale(df[selected_features])\n",
    "X_Normal=preprocessing.data_scale(df_Normal[selected_features])\n",
    "X_Attack=preprocessing.data_scale(df_Attack[selected_features])"
   ]
  },
  {
   "cell_type": "markdown",
   "metadata": {},
   "source": [
    "# Bidirectional flow"
   ]
  },
  {
   "cell_type": "code",
   "execution_count": 15,
   "metadata": {},
   "outputs": [],
   "source": [
    "import pickle\n",
    "import pandas as pd\n",
    "\n",
    "df_Normal=pickle.load( open( \"../src/flows_normal.pickle\", \"rb\" ) ) \n",
    "df_Attack=pickle.load( open( \"../src/flows_attack.pickle\", \"rb\" ) ) \n",
    "df=pd.concat([df_Normal,df_Attack])"
   ]
  },
  {
   "cell_type": "code",
   "execution_count": 16,
   "metadata": {},
   "outputs": [],
   "source": [
    "selected_features=['fwd_packets',\n",
    "       'bwd_packets', 'fwd_bytes', 'bwd_bytes']"
   ]
  },
  {
   "cell_type": "code",
   "execution_count": 17,
   "metadata": {},
   "outputs": [],
   "source": [
    "X=preprocessing.data_scale(df[selected_features])\n",
    "X_Normal=preprocessing.data_scale(df_Normal[selected_features])\n",
    "X_Attack=preprocessing.data_scale(df_Attack[selected_features])"
   ]
  },
  {
   "cell_type": "markdown",
   "metadata": {},
   "source": [
    "# KMEANS"
   ]
  },
  {
   "cell_type": "code",
   "execution_count": null,
   "metadata": {},
   "outputs": [],
   "source": [
    "# find the best number of clusters\n",
    "df_silhouette = clustering.kmeans_get_number_clusters(X_Normal)\n",
    "\n",
    "# select best number of clusters for kmeans\n",
    "max_num_clusters=df_silhouette.iloc[df_silhouette.score.idxmax() ]['Num Clusters']\n",
    "\n",
    "# plot the result for reference\n",
    "df_silhouette.plot(x='Num Clusters', y='score')"
   ]
  },
  {
   "cell_type": "code",
   "execution_count": null,
   "metadata": {},
   "outputs": [],
   "source": [
    "# fit kmeans model with normal day data\n",
    "kmeans=clustering.kmeans_train(X_Normal,int(max_num_clusters))\n",
    "\n",
    "# predictions with attack dataset\n",
    "labels=clustering.kmeans_predict(X_Attack,kmeans)\n",
    "\n",
    "# dimensionality reduction\n",
    "XR=preprocessing.get_pc(X_Attack,2)\n",
    "\n",
    "# print results\n",
    "clustering.clustering_print_results(df_Attack,labels,selected_features,XR,True,True,dataset_type+'_kmeans')"
   ]
  },
  {
   "cell_type": "code",
   "execution_count": null,
   "metadata": {},
   "outputs": [],
   "source": [
    "# print anomalies\n",
    "index_anomalies=clustering.kmeans_anomalies(X_Attack,kmeans)\n",
    "df_anomalies=df_Attack.iloc[index_anomalies,:]\n",
    "df_anomalies"
   ]
  },
  {
   "cell_type": "markdown",
   "metadata": {},
   "source": [
    "# DBSCAN"
   ]
  },
  {
   "cell_type": "code",
   "execution_count": null,
   "metadata": {},
   "outputs": [],
   "source": [
    "# define hyper parameters for dbscan\n",
    "eps=0.5\n",
    "min_samples=26\n",
    "\n",
    "# fit and predict\n",
    "dblabels=clustering.dbscan_fit_predict(eps,min_samples,X)\n",
    "\n",
    "# do dimensionality reduction to plot\n",
    "XR=preprocessing.get_pc(X,2)\n",
    "\n",
    "# print and plot\n",
    "clustering.clustering_print_results(df,dblabels,selected_features,XR,True,True,dataset_type+'_dbscan')"
   ]
  },
  {
   "cell_type": "markdown",
   "metadata": {},
   "source": [
    "# OPTIC"
   ]
  },
  {
   "cell_type": "code",
   "execution_count": null,
   "metadata": {},
   "outputs": [],
   "source": [
    "# define hyper params for optics\n",
    "eps=1.5\n",
    "min_samples=20\n",
    "\n",
    "# predict using optics\n",
    "labels=clustering.optics_fit_predict(X,min_samples,'dbscan', eps)\n",
    "\n",
    "# do dimensionality reduction to plot\n",
    "XR=preprocessing.get_pc(X,2)\n",
    "\n",
    "# print and plot\n",
    "clustering.clustering_print_results(df,labels,selected_features,XR,True,True,dataset_type+'_optic')"
   ]
  },
  {
   "cell_type": "code",
   "execution_count": null,
   "metadata": {},
   "outputs": [],
   "source": [
    "df_anomalies=clustering.optics_anomalies(df,labels)\n",
    "df_anomalies.sort_values(by=['total_bytes','total_packets','total_duration'],ascending=False)"
   ]
  },
  {
   "cell_type": "markdown",
   "metadata": {},
   "source": [
    "# IFOREST"
   ]
  },
  {
   "cell_type": "code",
   "execution_count": 18,
   "metadata": {},
   "outputs": [
    {
     "name": "stdout",
     "output_type": "stream",
     "text": [
      "Variability explained by the PC: 0.9664872738200176\n",
      "\n",
      "Exporting PACKET_IFOREST...\n",
      "Number of clusters: 2\n",
      "\n",
      "Cluster -1: 205048 data points\n",
      "\n",
      "Cluster 1: 235075 data points\n",
      "\n",
      "DONE.\n",
      "-------------------------------------------------------\n"
     ]
    },
    {
     "data": {
      "image/png": "[encoded data removed]",
      "text/plain": [
       "<Figure size 432x288 with 1 Axes>"
      ]
     },
     "metadata": {
      "needs_background": "light"
     },
     "output_type": "display_data"
    }
   ],
   "source": [
    "# model iforest\n",
    "iforest=clustering.iforest_train(X_Normal)\n",
    "labels=clustering.iforest_predict(X_Attack,iforest)\n",
    "\n",
    "# dimensionality reduction\n",
    "XR=preprocessing.get_pc(X_Attack,2)\n",
    "\n",
    "# print results\n",
    "clustering.clustering_print_results(df_Attack,labels,selected_features,XR,True,True,dataset_type+'_iforest')"
   ]
  },
  {
   "cell_type": "code",
   "execution_count": null,
   "metadata": {},
   "outputs": [],
   "source": [
    "# get anomalies\n",
    "df_anomalies=clustering.iforest_anomalies(df_Attack,labels)\n",
    "df_anomalies.sort_values(by=['total_bytes','total_packets','total_duration'],ascending=False)"
   ]
  },
  {
   "cell_type": "markdown",
   "metadata": {},
   "source": [
    "# LOF"
   ]
  },
  {
   "cell_type": "code",
   "execution_count": null,
   "metadata": {},
   "outputs": [],
   "source": [
    "outliers_fraction=0.05\n",
    "n_neighbors=30\n",
    "labels=clustering.lof_fit_predict(X,outliers_fraction,n_neighbors)\n",
    "\n",
    "# dimensionality reduction\n",
    "XR=preprocessing.get_pc(X,2)\n",
    "\n",
    "# print results\n",
    "clustering.clustering_print_results(df,labels,cconfig.SELECTED_FEATURES_FLOW,XR,True,True,dataset_type+'_lof')"
   ]
  },
  {
   "cell_type": "code",
   "execution_count": null,
   "metadata": {},
   "outputs": [],
   "source": [
    "# get anomalies\n",
    "df_anomalies=clustering.lof_anomalies(df,labels)\n",
    "df_anomalies.sort_values(by=['total_bytes','total_packets','total_duration'],ascending=False)"
   ]
  },
  {
   "cell_type": "markdown",
   "metadata": {},
   "source": [
    "# OCSVM"
   ]
  },
  {
   "cell_type": "code",
   "execution_count": null,
   "metadata": {},
   "outputs": [],
   "source": [
    "# train and test the model\n",
    "outliers_fraction=0.05\n",
    "labels=clustering.ocsvm_fit_predict(X_Normal,X_Attack,outliers_fraction)\n",
    "\n",
    "# dimensionality reduction\n",
    "XR=preprocessing.get_pc(X_Attack,3)\n",
    "\n",
    "# print results\n",
    "clustering.clustering_print_results(df_Attack,labels,cconfig.SELECTED_FEATURES_FLOW,XR,True,True,dataset_type+'_ocsvm')"
   ]
  },
  {
   "cell_type": "code",
   "execution_count": null,
   "metadata": {},
   "outputs": [],
   "source": [
    "# get anomalies\n",
    "df_anomalies=clustering.ocsvm_anomalies(df_Attack,labels)\n",
    "df_anomalies.sort_values(by=['total_bytes','total_packets','total_duration'],ascending=False)"
   ]
  },
  {
   "cell_type": "code",
   "execution_count": null,
   "metadata": {},
   "outputs": [],
   "source": []
  }
 ],
 "metadata": {
  "kernelspec": {
   "display_name": "Python 3",
   "language": "python",
   "name": "python3"
  },
  "language_info": {
   "codemirror_mode": {
    "name": "ipython",
    "version": 3
   },
   "file_extension": ".py",
   "mimetype": "text/x-python",
   "name": "python",
   "nbconvert_exporter": "python",
   "pygments_lexer": "ipython3",
   "version": "3.7.3"
  }
 },
 "nbformat": 4,
 "nbformat_minor": 4
}

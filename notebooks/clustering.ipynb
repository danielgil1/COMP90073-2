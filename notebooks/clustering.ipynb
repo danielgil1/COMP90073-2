{
 "cells": [
  {
   "cell_type": "code",
   "execution_count": 1,
   "metadata": {},
   "outputs": [],
   "source": [
    "import sys\n",
    "sys.path.append(\"../src\")\n",
    "import preprocessing\n",
    "import cconfig\n",
    "import clustering\n",
    "\n",
    "# Plotting defaults\n",
    "%matplotlib inline\n",
    "import matplotlib.pyplot as plt\n",
    "\n"
   ]
  },
  {
   "cell_type": "markdown",
   "metadata": {},
   "source": [
    "# Load data and preprocess"
   ]
  },
  {
   "cell_type": "code",
   "execution_count": 2,
   "metadata": {},
   "outputs": [],
   "source": [
    "# load original data in dataframes, sample, select some features and scale\n",
    "df,df_Normal,df_Attack=preprocessing.data_load(0.1,None ,False)\n",
    "X=preprocessing.data_scale(df[cconfig.SELECTED_FEATURES_FLOW])\n",
    "X_Normal=preprocessing.data_scale(df_Normal[cconfig.SELECTED_FEATURES_FLOW])\n",
    "X_Attack=preprocessing.data_scale(df_Attack[cconfig.SELECTED_FEATURES_FLOW])"
   ]
  },
  {
   "cell_type": "code",
   "execution_count": 9,
   "metadata": {},
   "outputs": [
    {
     "data": {
      "text/plain": [
       "count    14696.000000\n",
       "mean        26.494148\n",
       "std         49.468648\n",
       "min          3.000000\n",
       "25%         11.000000\n",
       "50%         16.000000\n",
       "75%         23.000000\n",
       "max        997.000000\n",
       "Name: total_packets, dtype: float64"
      ]
     },
     "execution_count": 9,
     "metadata": {},
     "output_type": "execute_result"
    }
   ],
   "source": [
    "df_Normal.total_packets.describe()"
   ]
  },
  {
   "cell_type": "markdown",
   "metadata": {},
   "source": [
    "# KMEANS"
   ]
  },
  {
   "cell_type": "code",
   "execution_count": null,
   "metadata": {},
   "outputs": [],
   "source": [
    "# find the best number of clusters\n",
    "df_silhouette = clustering.kmeans_get_number_clusters(X_Normal)\n",
    "\n",
    "# select best number of clusters for kmeans\n",
    "num_clusters=df_silhouette.iloc[df_silhouette.score.idxmax() ]['Num Clusters']\n",
    "\n",
    "# plot the result for reference\n",
    "df_silhouette.plot(x='Num Clusters', y='score')"
   ]
  },
  {
   "cell_type": "code",
   "execution_count": null,
   "metadata": {},
   "outputs": [],
   "source": [
    "# fit kmeans model with normal day data\n",
    "kmeans=clustering.kmeans_train(X_Normal,num_clusters)\n",
    "\n",
    "# predictions with attack dataset\n",
    "labels=clustering.kmeans_predict(X_Attack,kmeans)\n",
    "\n",
    "# dimensionality reduction\n",
    "XR=preprocessing.get_pc(X_Attack,2)\n",
    "\n",
    "# print results\n",
    "clustering.clustering_print_results(df_Attack,labels,cconfig.SELECTED_FEATURES_FLOW,XR,True,True)"
   ]
  },
  {
   "cell_type": "markdown",
   "metadata": {},
   "source": [
    "# DBSCAN"
   ]
  },
  {
   "cell_type": "code",
   "execution_count": 10,
   "metadata": {},
   "outputs": [
    {
     "name": "stdout",
     "output_type": "stream",
     "text": [
      "Estimated number of clusters: 6\n",
      "Estimated number of noise points: 1466\n",
      "Total points: 32490\n",
      "Variability explained by the PC: 0.5650638197536567\n",
      "\n",
      "Cluster -1: 1466 data points\n",
      "                   src              dst                    start  \\\n",
      "39567    172.217.10.78    192.168.10.12  2017-07-03 13:28:07.231   \n",
      "127567   192.168.10.51  205.185.208.154  2017-07-03 14:12:02.614   \n",
      "8409    107.154.79.224    192.168.10.19  2017-07-03 13:49:59.399   \n",
      "\n",
      "                         finish  total_duration protocol  total_bytes  \\\n",
      "39567   2017-07-03 13:28:07.578        0.347580  TLSv1.2         9465   \n",
      "127567  2017-07-03 14:12:03.743        1.129351  TLSv1.2        28434   \n",
      "8409    2017-07-03 13:50:04.315        4.915523    TLSv1        15596   \n",
      "\n",
      "        total_packets  src_ports  dst_ports        pps        bps         bpp  \\\n",
      "39567             297        443      34908  854.48000  27231.000   31.868687   \n",
      "127567            148      58362        443  131.04870  25177.290  192.121622   \n",
      "8409               69      45623        443   14.03716   3172.806  226.028986   \n",
      "\n",
      "        attack  cluster         x         y  \n",
      "39567        0       -1  0.662771 -0.025556  \n",
      "127567       0       -1 -0.174649 -0.843727  \n",
      "8409         0       -1  0.176016 -0.928938  \n",
      "\n",
      "Cluster 0: 14060 data points\n",
      "                   src            dst                    start  \\\n",
      "21782   151.101.44.134  192.168.10.25  2017-07-03 14:04:43.842   \n",
      "73891    192.168.10.14   68.67.180.45  2017-07-03 12:06:54.828   \n",
      "10870  125.209.226.232  192.168.10.12  2017-07-03 13:40:14.619   \n",
      "\n",
      "                        finish  total_duration protocol  total_bytes  \\\n",
      "21782  2017-07-03 14:04:44.487        0.644382    TLSv1         1535   \n",
      "73891  2017-07-03 12:06:55.006        0.177956  TLSv1.2          709   \n",
      "10870  2017-07-03 13:40:16.036        1.417120      TCP         4681   \n",
      "\n",
      "       total_packets  src_ports  dst_ports      pps      bps         bpp  \\\n",
      "21782             18      56475        443  27.9337  2382.13   85.277778   \n",
      "73891              8      49829        443  44.9549  3984.13   88.625000   \n",
      "10870             20      50692        443  14.1131  3303.18  234.050000   \n",
      "\n",
      "       attack  cluster         x         y  \n",
      "21782       0        0 -1.744748 -0.461800  \n",
      "73891       0        0 -1.793946 -0.329406  \n",
      "10870       0        0 -1.174727 -0.493031  \n",
      "\n",
      "Cluster 1: 13648 data points\n",
      "                    src            dst                    start  \\\n",
      "20401   151.101.208.166  192.168.10.12  2017-07-03 13:22:23.874   \n",
      "22475      151.101.46.2  192.168.10.25  2017-07-03 14:44:07.419   \n",
      "142692     192.168.10.9    52.40.24.51  2017-07-03 12:07:44.622   \n",
      "\n",
      "                         finish  total_duration protocol  total_bytes  \\\n",
      "20401   2017-07-03 13:22:24.178        0.303722    TLSv1         3006   \n",
      "22475   2017-07-03 14:44:07.541        0.122477      TCP          524   \n",
      "142692  2017-07-03 12:07:45.183        0.560419  TLSv1.2         3397   \n",
      "\n",
      "        total_packets  src_ports  dst_ports      pps      bps         bpp  \\\n",
      "20401              15        443      39622  49.3873  9897.21  200.400000   \n",
      "22475               9         80      63041  73.4832  4278.35   58.222222   \n",
      "142692             13        443       1194  23.1969  6061.54  261.307692   \n",
      "\n",
      "        attack  cluster         x         y  \n",
      "20401        0        1  0.022245  0.297412  \n",
      "22475        0        1  0.159200  0.469741  \n",
      "142692       0        1 -0.594627 -0.009038  \n",
      "\n",
      "Cluster 2: 32 data points\n",
      "                 src           dst                    start  \\\n",
      "90628  192.168.10.25  192.168.10.3  2017-07-03 13:43:01.783   \n",
      "90663  192.168.10.25  192.168.10.3  2017-07-03 14:14:40.031   \n",
      "90614  192.168.10.25  192.168.10.3  2017-07-03 13:29:01.000   \n",
      "\n",
      "                        finish  total_duration protocol  total_bytes  \\\n",
      "90628  2017-07-03 13:43:01.802        0.018923      TCP         7448   \n",
      "90663  2017-07-03 14:14:40.052        0.020977      TCP         7448   \n",
      "90614  2017-07-03 13:29:01.020        0.020178      TCP         7448   \n",
      "\n",
      "       total_packets  src_ports  dst_ports     pps       bps         bpp  \\\n",
      "90628             30      53407       3268  1585.4  393595.0  248.266667   \n",
      "90663             30      58092        389  1430.1  355056.0  248.266667   \n",
      "90614             30      51929       3268  1486.8  369115.0  248.266667   \n",
      "\n",
      "       attack  cluster         x         y  \n",
      "90628       0        2 -1.385720  2.580746  \n",
      "90663       0        2 -1.506975  2.229794  \n",
      "90614       0        2 -1.357549  2.402439  \n",
      "\n",
      "Cluster 3: 3052 data points\n",
      "                 src            dst                    start  \\\n",
      "141336  192.168.10.9  34.200.65.151  2017-07-03 12:51:18.310   \n",
      "123547  192.168.10.5  68.67.178.137  2017-07-03 13:19:58.418   \n",
      "142333  192.168.10.9    52.2.96.185  2017-07-03 12:47:09.406   \n",
      "\n",
      "                         finish  total_duration protocol  total_bytes  \\\n",
      "141336  2017-07-03 12:51:20.764        2.454128      TCP        36566   \n",
      "123547  2017-07-03 13:20:01.199        2.781586      TCP        24850   \n",
      "142333  2017-07-03 12:47:11.926        2.520079     HTTP        37271   \n",
      "\n",
      "        total_packets  src_ports  dst_ports       pps        bps         bpp  \\\n",
      "141336             63         80      64020  25.67103  14899.790  580.412698   \n",
      "123547             43         80      54273  15.45881   8933.752  577.906977   \n",
      "142333             57         80      63239  22.61834  14789.620  653.877193   \n",
      "\n",
      "        attack  cluster         x         y  \n",
      "141336       0        3  2.862810 -0.010745  \n",
      "123547       0        3  2.236157 -0.004592  \n",
      "142333       0        3  2.967399 -0.005786  \n",
      "\n",
      "Cluster 4: 206 data points\n",
      "                  src            dst                    start  \\\n",
      "8275   104.117.102.33  192.168.10.50  2017-07-07 18:58:11.758   \n",
      "7689   104.117.102.33  192.168.10.50  2017-07-07 18:57:50.226   \n",
      "64122   13.58.146.190  192.168.10.50  2017-07-07 18:10:07.677   \n",
      "\n",
      "                        finish  total_duration protocol  total_bytes  \\\n",
      "8275   2017-07-07 18:58:11.759        0.000826      TCP           20   \n",
      "7689   2017-07-07 18:57:50.227        0.001030      TCP           20   \n",
      "64122  2017-07-07 18:10:07.677        0.000590      TCP            0   \n",
      "\n",
      "       total_packets  src_ports  dst_ports     pps      bps  bpp  attack  \\\n",
      "8275               5         80      16372  6053.0  24213.0  4.0       1   \n",
      "7689               5         80      15782  4854.0  19417.0  4.0       1   \n",
      "64122              3        445      41750  5085.0      0.0  0.0       1   \n",
      "\n",
      "       cluster         x         y  \n",
      "8275         4 -1.110431  3.090367  \n",
      "7689         4 -1.077640  2.496210  \n",
      "64122        4 -0.588049  2.669583  \n",
      "\n",
      "Cluster 5: 26 data points\n",
      "                 src            dst                    start  \\\n",
      "64293  13.58.146.190  192.168.10.50  2017-07-07 18:23:12.115   \n",
      "64098  13.58.146.190  192.168.10.50  2017-07-07 17:15:34.480   \n",
      "70892    13.59.43.55  192.168.10.50  2017-07-07 17:51:57.778   \n",
      "\n",
      "                        finish  total_duration protocol  total_bytes  \\\n",
      "64293  2017-07-07 18:23:12.116        0.000570      TCP            0   \n",
      "64098  2017-07-07 17:15:34.480        0.000571      TCP            0   \n",
      "70892  2017-07-07 17:51:57.778        0.000476      TCP            0   \n",
      "\n",
      "       total_packets  src_ports  dst_ports     pps  bps  bpp  attack  cluster  \\\n",
      "64293              3      49696        139  5263.0  0.0  0.0       1        5   \n",
      "64098              3      44091         21  5254.0  0.0  0.0       1        5   \n",
      "70892              3      51887        445  6303.0  0.0  0.0       1        5   \n",
      "\n",
      "              x         y  \n",
      "64293 -2.181151  2.114873  \n",
      "64098 -2.096295  2.150361  \n",
      "70892 -2.247368  2.588759  \n",
      "done.\n"
     ]
    },
    {
     "data": {
      "image/png": "[encoded data removed]",
      "text/plain": [
       "<Figure size 432x288 with 1 Axes>"
      ]
     },
     "metadata": {
      "needs_background": "light"
     },
     "output_type": "display_data"
    }
   ],
   "source": [
    "# define hyper parameters for dbscan\n",
    "eps=0.5\n",
    "min_samples=26\n",
    "\n",
    "# fit and predict\n",
    "dblabels=clustering.dbscan_fit_predict(eps,min_samples,X)\n",
    "\n",
    "# do dimensionality reduction to plot\n",
    "XR=preprocessing.get_pc(X,2)\n",
    "\n",
    "# print and plot\n",
    "clustering.clustering_print_results(df,dblabels,cconfig.SELECTED_FEATURES_FLOW,XR,True,True)"
   ]
  },
  {
   "cell_type": "markdown",
   "metadata": {},
   "source": [
    "# OPTIC"
   ]
  },
  {
   "cell_type": "code",
   "execution_count": 5,
   "metadata": {},
   "outputs": [],
   "source": [
    "# define hyper params for optics\n",
    "eps=0.5\n",
    "min_samples=26\n",
    "\n",
    "# predict using optics\n",
    "labels=clustering.optics_fit_predict(X,min_samples,'dbscan', eps)\n",
    "\n",
    "# do dimensionality reduction to plot\n",
    "XR=preprocessing.get_pc(X,2)\n",
    "\n",
    "# print and plot\n",
    "clustering.clustering_print_results(df,labels,cconfig.SELECTED_FEATURES_FLOW,XR,True,True)"
   ]
  },
  {
   "cell_type": "markdown",
   "metadata": {},
   "source": [
    "# IFOREST"
   ]
  },
  {
   "cell_type": "code",
   "execution_count": null,
   "metadata": {},
   "outputs": [],
   "source": [
    "# model iforest\n",
    "iforest=clustering.iforest_train(X_Normal)\n",
    "labels=clustering.iforest_predict(X_Attack,iforest)\n",
    "\n",
    "# dimensionality reduction\n",
    "XR=preprocessing.get_pc(X_Attack,2)\n",
    "\n",
    "# print results\n",
    "clustering.clustering_print_results(df_Attack,labels,cconfig.SELECTED_FEATURES_FLOW,XR,True,True)"
   ]
  },
  {
   "cell_type": "code",
   "execution_count": null,
   "metadata": {},
   "outputs": [],
   "source": []
  }
 ],
 "metadata": {
  "kernelspec": {
   "display_name": "Python 3",
   "language": "python",
   "name": "python3"
  },
  "language_info": {
   "codemirror_mode": {
    "name": "ipython",
    "version": 3
   },
   "file_extension": ".py",
   "mimetype": "text/x-python",
   "name": "python",
   "nbconvert_exporter": "python",
   "pygments_lexer": "ipython3",
   "version": "3.7.4"
  }
 },
 "nbformat": 4,
 "nbformat_minor": 4
}
